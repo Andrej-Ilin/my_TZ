{
 "cells": [
  {
   "cell_type": "markdown",
   "metadata": {
    "id": "eYLIslhVxq61"
   },
   "source": [
    "# Импорт библиотек и загрузка данных\n"
   ]
  },
  {
   "cell_type": "code",
   "execution_count": 2,
   "metadata": {
    "colab": {
     "base_uri": "https://localhost:8080/"
    },
    "executionInfo": {
     "elapsed": 15339,
     "status": "ok",
     "timestamp": 1631030030242,
     "user": {
      "displayName": "Andrej Ilin",
      "photoUrl": "",
      "userId": "01152849129143253976"
     },
     "user_tz": -180
    },
    "id": "oo3cj_tLxyHS",
    "outputId": "b572894f-acbc-4ef4-e8f6-cc75a7d4830e"
   },
   "outputs": [
    {
     "name": "stdout",
     "output_type": "stream",
     "text": [
      "Collecting catboost\n",
      "  Downloading catboost-0.26.1-cp37-none-manylinux1_x86_64.whl (67.4 MB)\n",
      "\u001b[K     |████████████████████████████████| 67.4 MB 27 kB/s \n",
      "\u001b[?25hRequirement already satisfied: six in /usr/local/lib/python3.7/dist-packages (from catboost) (1.15.0)\n",
      "Requirement already satisfied: graphviz in /usr/local/lib/python3.7/dist-packages (from catboost) (0.10.1)\n",
      "Requirement already satisfied: pandas>=0.24.0 in /usr/local/lib/python3.7/dist-packages (from catboost) (1.1.5)\n",
      "Requirement already satisfied: plotly in /usr/local/lib/python3.7/dist-packages (from catboost) (4.4.1)\n",
      "Requirement already satisfied: numpy>=1.16.0 in /usr/local/lib/python3.7/dist-packages (from catboost) (1.19.5)\n",
      "Requirement already satisfied: matplotlib in /usr/local/lib/python3.7/dist-packages (from catboost) (3.2.2)\n",
      "Requirement already satisfied: scipy in /usr/local/lib/python3.7/dist-packages (from catboost) (1.4.1)\n",
      "Requirement already satisfied: pytz>=2017.2 in /usr/local/lib/python3.7/dist-packages (from pandas>=0.24.0->catboost) (2018.9)\n",
      "Requirement already satisfied: python-dateutil>=2.7.3 in /usr/local/lib/python3.7/dist-packages (from pandas>=0.24.0->catboost) (2.8.2)\n",
      "Requirement already satisfied: kiwisolver>=1.0.1 in /usr/local/lib/python3.7/dist-packages (from matplotlib->catboost) (1.3.1)\n",
      "Requirement already satisfied: pyparsing!=2.0.4,!=2.1.2,!=2.1.6,>=2.0.1 in /usr/local/lib/python3.7/dist-packages (from matplotlib->catboost) (2.4.7)\n",
      "Requirement already satisfied: cycler>=0.10 in /usr/local/lib/python3.7/dist-packages (from matplotlib->catboost) (0.10.0)\n",
      "Requirement already satisfied: retrying>=1.3.3 in /usr/local/lib/python3.7/dist-packages (from plotly->catboost) (1.3.3)\n",
      "Installing collected packages: catboost\n",
      "Successfully installed catboost-0.26.1\n",
      "Requirement already satisfied: xgboost in /usr/local/lib/python3.7/dist-packages (0.90)\n",
      "Requirement already satisfied: scipy in /usr/local/lib/python3.7/dist-packages (from xgboost) (1.4.1)\n",
      "Requirement already satisfied: numpy in /usr/local/lib/python3.7/dist-packages (from xgboost) (1.19.5)\n"
     ]
    }
   ],
   "source": [
    "!pip install catboost\n",
    "!pip install xgboost\n",
    "# !pip install pandas-profiling --upgrade"
   ]
  },
  {
   "cell_type": "code",
   "execution_count": 3,
   "metadata": {
    "executionInfo": {
     "elapsed": 887,
     "status": "ok",
     "timestamp": 1631030031124,
     "user": {
      "displayName": "Andrej Ilin",
      "photoUrl": "",
      "userId": "01152849129143253976"
     },
     "user_tz": -180
    },
    "id": "lgwkxxVXo-VX"
   },
   "outputs": [],
   "source": [
    "import warnings\n",
    "import pandas as pd\n",
    "import numpy as np\n",
    "# import pandas_profiling as pp\n",
    "\n",
    "from sklearn.model_selection import train_test_split, GridSearchCV\n",
    "from sklearn.ensemble import RandomForestClassifier\n",
    "from sklearn.linear_model import LinearRegression, Ridge\n",
    "\n",
    "from xgboost import XGBClassifier, XGBRegressor\n",
    "from catboost import CatBoostRegressor\n",
    "from catboost import CatBoostClassifier\n",
    "\n",
    "from sklearn.model_selection import cross_val_score\n",
    "\n",
    "from sklearn.feature_selection import f_classif, mutual_info_classif\n",
    "\n",
    "from sklearn.metrics import roc_auc_score, confusion_matrix, mean_absolute_error\n",
    "from sklearn.metrics import plot_confusion_matrix, roc_curve, f1_score\n",
    "from sklearn.preprocessing import OneHotEncoder, LabelEncoder\n",
    "\n",
    "import matplotlib.pyplot as plt\n",
    "import seaborn as sns\n",
    "\n",
    "RANDOM_SEED = 42\n",
    "warnings.filterwarnings(\"ignore\")"
   ]
  },
  {
   "cell_type": "code",
   "execution_count": 4,
   "metadata": {
    "executionInfo": {
     "elapsed": 1282,
     "status": "ok",
     "timestamp": 1631030033087,
     "user": {
      "displayName": "Andrej Ilin",
      "photoUrl": "",
      "userId": "01152849129143253976"
     },
     "user_tz": -180
    },
    "id": "3VHvWdHhpB8m"
   },
   "outputs": [],
   "source": [
    "X = pd.read_excel('/content/drive/MyDrive/TЗ_Будущее/x_train.xlsx')\n",
    "y = pd.read_excel('/content/drive/MyDrive/TЗ_Будущее/y_train.xlsx')\n",
    "# x_new = pd.read_excel('/content/drive/MyDrive/TЗ_Будущее/x_new.xlsx')"
   ]
  },
  {
   "cell_type": "markdown",
   "metadata": {
    "id": "Ds9qIbvTznug"
   },
   "source": [
    "# Анализ данных"
   ]
  },
  {
   "cell_type": "code",
   "execution_count": 5,
   "metadata": {
    "colab": {
     "base_uri": "https://localhost:8080/",
     "height": 176
    },
    "executionInfo": {
     "elapsed": 20,
     "status": "ok",
     "timestamp": 1631030033088,
     "user": {
      "displayName": "Andrej Ilin",
      "photoUrl": "",
      "userId": "01152849129143253976"
     },
     "user_tz": -180
    },
    "id": "2c1df3jUpWkB",
    "outputId": "d4df84cb-1a46-437c-93d7-181919902bba"
   },
   "outputs": [
    {
     "data": {
      "text/html": [
       "<div>\n",
       "<style scoped>\n",
       "    .dataframe tbody tr th:only-of-type {\n",
       "        vertical-align: middle;\n",
       "    }\n",
       "\n",
       "    .dataframe tbody tr th {\n",
       "        vertical-align: top;\n",
       "    }\n",
       "\n",
       "    .dataframe thead th {\n",
       "        text-align: right;\n",
       "    }\n",
       "</style>\n",
       "<table border=\"1\" class=\"dataframe\">\n",
       "  <thead>\n",
       "    <tr style=\"text-align: right;\">\n",
       "      <th></th>\n",
       "      <th>инвестор</th>\n",
       "      <th>пол клиента</th>\n",
       "      <th>баланс счета</th>\n",
       "      <th>возраст клиента</th>\n",
       "      <th>месяц рождения клиента</th>\n",
       "      <th>день рождения клиента</th>\n",
       "      <th>лет с заключения договора</th>\n",
       "      <th>месяцев с заключения договора</th>\n",
       "      <th>дней с заключения договора</th>\n",
       "      <th>лет на момент смерти</th>\n",
       "      <th>месяцев на момент смерти</th>\n",
       "      <th>дней на момент смерти</th>\n",
       "    </tr>\n",
       "  </thead>\n",
       "  <tbody>\n",
       "    <tr>\n",
       "      <th>0</th>\n",
       "      <td>ФЛ</td>\n",
       "      <td>м</td>\n",
       "      <td>5086.37</td>\n",
       "      <td>61</td>\n",
       "      <td>6</td>\n",
       "      <td>14</td>\n",
       "      <td>14</td>\n",
       "      <td>1</td>\n",
       "      <td>31</td>\n",
       "      <td>0</td>\n",
       "      <td>0</td>\n",
       "      <td>0</td>\n",
       "    </tr>\n",
       "    <tr>\n",
       "      <th>1</th>\n",
       "      <td>ФЛ</td>\n",
       "      <td>м</td>\n",
       "      <td>33150.38</td>\n",
       "      <td>61</td>\n",
       "      <td>7</td>\n",
       "      <td>8</td>\n",
       "      <td>11</td>\n",
       "      <td>1</td>\n",
       "      <td>28</td>\n",
       "      <td>0</td>\n",
       "      <td>0</td>\n",
       "      <td>0</td>\n",
       "    </tr>\n",
       "    <tr>\n",
       "      <th>2</th>\n",
       "      <td>ФЛ</td>\n",
       "      <td>м</td>\n",
       "      <td>0.00</td>\n",
       "      <td>70</td>\n",
       "      <td>6</td>\n",
       "      <td>8</td>\n",
       "      <td>14</td>\n",
       "      <td>11</td>\n",
       "      <td>29</td>\n",
       "      <td>70</td>\n",
       "      <td>11</td>\n",
       "      <td>12</td>\n",
       "    </tr>\n",
       "  </tbody>\n",
       "</table>\n",
       "</div>"
      ],
      "text/plain": [
       "  инвестор пол клиента  ...  месяцев на момент смерти  дней на момент смерти\n",
       "0       ФЛ           м  ...                         0                      0\n",
       "1       ФЛ           м  ...                         0                      0\n",
       "2       ФЛ           м  ...                        11                     12\n",
       "\n",
       "[3 rows x 12 columns]"
      ]
     },
     "execution_count": 5,
     "metadata": {},
     "output_type": "execute_result"
    }
   ],
   "source": [
    "X.head(3)"
   ]
  },
  {
   "cell_type": "code",
   "execution_count": 6,
   "metadata": {
    "colab": {
     "base_uri": "https://localhost:8080/",
     "height": 142
    },
    "executionInfo": {
     "elapsed": 15,
     "status": "ok",
     "timestamp": 1631030033089,
     "user": {
      "displayName": "Andrej Ilin",
      "photoUrl": "",
      "userId": "01152849129143253976"
     },
     "user_tz": -180
    },
    "id": "MBoLlUmspwdE",
    "outputId": "f94183b6-bde4-4473-831e-892fcac3ed8f"
   },
   "outputs": [
    {
     "data": {
      "text/html": [
       "<div>\n",
       "<style scoped>\n",
       "    .dataframe tbody tr th:only-of-type {\n",
       "        vertical-align: middle;\n",
       "    }\n",
       "\n",
       "    .dataframe tbody tr th {\n",
       "        vertical-align: top;\n",
       "    }\n",
       "\n",
       "    .dataframe thead th {\n",
       "        text-align: right;\n",
       "    }\n",
       "</style>\n",
       "<table border=\"1\" class=\"dataframe\">\n",
       "  <thead>\n",
       "    <tr style=\"text-align: right;\">\n",
       "      <th></th>\n",
       "      <th>месяц выплаты</th>\n",
       "      <th>сумма выплаты</th>\n",
       "      <th>тип выплаты</th>\n",
       "    </tr>\n",
       "  </thead>\n",
       "  <tbody>\n",
       "    <tr>\n",
       "      <th>0</th>\n",
       "      <td>8</td>\n",
       "      <td>0.00</td>\n",
       "      <td>1</td>\n",
       "    </tr>\n",
       "    <tr>\n",
       "      <th>1</th>\n",
       "      <td>1</td>\n",
       "      <td>0.00</td>\n",
       "      <td>1</td>\n",
       "    </tr>\n",
       "    <tr>\n",
       "      <th>2</th>\n",
       "      <td>11</td>\n",
       "      <td>23.44</td>\n",
       "      <td>1</td>\n",
       "    </tr>\n",
       "  </tbody>\n",
       "</table>\n",
       "</div>"
      ],
      "text/plain": [
       "   месяц выплаты  сумма выплаты  тип выплаты\n",
       "0              8           0.00            1\n",
       "1              1           0.00            1\n",
       "2             11          23.44            1"
      ]
     },
     "execution_count": 6,
     "metadata": {},
     "output_type": "execute_result"
    }
   ],
   "source": [
    "y.head(3)"
   ]
  },
  {
   "cell_type": "code",
   "execution_count": 7,
   "metadata": {
    "executionInfo": {
     "elapsed": 14,
     "status": "ok",
     "timestamp": 1631030033090,
     "user": {
      "displayName": "Andrej Ilin",
      "photoUrl": "",
      "userId": "01152849129143253976"
     },
     "user_tz": -180
    },
    "id": "ivHNgB8Azc-J"
   },
   "outputs": [],
   "source": [
    "# data = pd.concat([X, y], axis=1)\n",
    "# pp_data = pp.ProfileReport(data)\n",
    "# pp_data"
   ]
  },
  {
   "cell_type": "code",
   "execution_count": 8,
   "metadata": {
    "colab": {
     "base_uri": "https://localhost:8080/",
     "height": 974
    },
    "executionInfo": {
     "elapsed": 608,
     "status": "ok",
     "timestamp": 1631030033685,
     "user": {
      "displayName": "Andrej Ilin",
      "photoUrl": "",
      "userId": "01152849129143253976"
     },
     "user_tz": -180
    },
    "id": "ZxH4uRUD0SzT",
    "outputId": "f26a7e6c-86d5-4c69-d3e9-4ae18a34e935"
   },
   "outputs": [
    {
     "data": {
      "image/png": "[encoded data removed]",
      "text/plain": [
       "<Figure size 360x360 with 1 Axes>"
      ]
     },
     "metadata": {
      "needs_background": "light"
     },
     "output_type": "display_data"
    },
    {
     "data": {
      "image/png": "[encoded data removed]",
      "text/plain": [
       "<Figure size 360x360 with 1 Axes>"
      ]
     },
     "metadata": {
      "needs_background": "light"
     },
     "output_type": "display_data"
    },
    {
     "data": {
      "image/png": "[encoded data removed]",
      "text/plain": [
       "<Figure size 360x360 with 1 Axes>"
      ]
     },
     "metadata": {
      "needs_background": "light"
     },
     "output_type": "display_data"
    }
   ],
   "source": [
    "# Смотрим распределение таргета\n",
    "y_columns = y.columns\n",
    "for col in y_columns:\n",
    "    plt.figure(figsize=(5, 5))\n",
    "    plt.title(col)\n",
    "    y[col].hist()"
   ]
  },
  {
   "cell_type": "markdown",
   "metadata": {
    "id": "zG-wodM816Aw"
   },
   "source": [
    "Сумма выплат явно растянут и имеет сильный дисбаланс. Тип выплаты - имеет сильный дисбаланс. Посмотрим на выбросы таргетов."
   ]
  },
  {
   "cell_type": "code",
   "execution_count": 9,
   "metadata": {
    "colab": {
     "base_uri": "https://localhost:8080/",
     "height": 851
    },
    "executionInfo": {
     "elapsed": 430,
     "status": "ok",
     "timestamp": 1631030034106,
     "user": {
      "displayName": "Andrej Ilin",
      "photoUrl": "",
      "userId": "01152849129143253976"
     },
     "user_tz": -180
    },
    "id": "zTNOXH50DLEo",
    "outputId": "e43e6149-e9e9-48ca-c172-3a676c472d56"
   },
   "outputs": [
    {
     "data": {
      "image/png": "[encoded data removed]",
      "text/plain": [
       "<Figure size 1008x288 with 1 Axes>"
      ]
     },
     "metadata": {
      "needs_background": "light"
     },
     "output_type": "display_data"
    },
    {
     "data": {
      "image/png": "[encoded data removed]",
      "text/plain": [
       "<Figure size 1008x288 with 1 Axes>"
      ]
     },
     "metadata": {
      "needs_background": "light"
     },
     "output_type": "display_data"
    },
    {
     "data": {
      "image/png": "[encoded data removed]",
      "text/plain": [
       "<Figure size 1008x288 with 1 Axes>"
      ]
     },
     "metadata": {
      "needs_background": "light"
     },
     "output_type": "display_data"
    }
   ],
   "source": [
    "# Смотрим на выбросы таргетов\n",
    "for col in y_columns:\n",
    "    fig, ax = plt.subplots(figsize=(14, 4))\n",
    "    sns.boxplot(x=col, data=y, ax=ax)\n",
    "    plt.xticks(rotation=0)\n",
    "    ax.set_title('Boxplot for ' + col)\n",
    "    plt.show()"
   ]
  },
  {
   "cell_type": "code",
   "execution_count": 10,
   "metadata": {
    "executionInfo": {
     "elapsed": 10,
     "status": "ok",
     "timestamp": 1631030034108,
     "user": {
      "displayName": "Andrej Ilin",
      "photoUrl": "",
      "userId": "01152849129143253976"
     },
     "user_tz": -180
    },
    "id": "xrWO7ImQGpc8"
   },
   "outputs": [],
   "source": [
    "# pay_month = y['месяц выплаты']\n",
    "# pay_month.resample('M', how='mean')\n",
    "# pay_month.plot(figsize=(22,6))"
   ]
  },
  {
   "cell_type": "markdown",
   "metadata": {
    "id": "Vu6qe4qB2v0H"
   },
   "source": [
    "## Типизация признаков "
   ]
  },
  {
   "cell_type": "code",
   "execution_count": 11,
   "metadata": {
    "colab": {
     "base_uri": "https://localhost:8080/",
     "height": 0
    },
    "executionInfo": {
     "elapsed": 2415,
     "status": "ok",
     "timestamp": 1631030036512,
     "user": {
      "displayName": "Andrej Ilin",
      "photoUrl": "",
      "userId": "01152849129143253976"
     },
     "user_tz": -180
    },
    "id": "nchqGaB12-6K",
    "outputId": "50b76bb6-0a4f-41c5-a36e-39d690f2ac3e"
   },
   "outputs": [
    {
     "data": {
      "image/png": "[encoded data removed]",
      "text/plain": [
       "<Figure size 360x360 with 1 Axes>"
      ]
     },
     "metadata": {
      "needs_background": "light"
     },
     "output_type": "display_data"
    },
    {
     "data": {
      "image/png": "[encoded data removed]",
      "text/plain": [
       "<Figure size 360x360 with 1 Axes>"
      ]
     },
     "metadata": {
      "needs_background": "light"
     },
     "output_type": "display_data"
    },
    {
     "data": {
      "image/png": "[encoded data removed]",
      "text/plain": [
       "<Figure size 360x360 with 1 Axes>"
      ]
     },
     "metadata": {
      "needs_background": "light"
     },
     "output_type": "display_data"
    },
    {
     "data": {
      "image/png": "[encoded data removed]",
      "text/plain": [
       "<Figure size 360x360 with 1 Axes>"
      ]
     },
     "metadata": {
      "needs_background": "light"
     },
     "output_type": "display_data"
    },
    {
     "data": {
      "image/png": "[encoded data removed]",
      "text/plain": [
       "<Figure size 360x360 with 1 Axes>"
      ]
     },
     "metadata": {
      "needs_background": "light"
     },
     "output_type": "display_data"
    },
    {
     "data": {
      "image/png": "[encoded data removed]",
      "text/plain": [
       "<Figure size 360x360 with 1 Axes>"
      ]
     },
     "metadata": {
      "needs_background": "light"
     },
     "output_type": "display_data"
    },
    {
     "data": {
      "image/png": "[encoded data removed]",
      "text/plain": [
       "<Figure size 360x360 with 1 Axes>"
      ]
     },
     "metadata": {
      "needs_background": "light"
     },
     "output_type": "display_data"
    },
    {
     "data": {
      "image/png": "[encoded data removed]",
      "text/plain": [
       "<Figure size 360x360 with 1 Axes>"
      ]
     },
     "metadata": {
      "needs_background": "light"
     },
     "output_type": "display_data"
    },
    {
     "data": {
      "image/png": "[encoded data removed]",
      "text/plain": [
       "<Figure size 360x360 with 1 Axes>"
      ]
     },
     "metadata": {
      "needs_background": "light"
     },
     "output_type": "display_data"
    },
    {
     "data": {
      "image/png": "[encoded data removed]",
      "text/plain": [
       "<Figure size 360x360 with 1 Axes>"
      ]
     },
     "metadata": {
      "needs_background": "light"
     },
     "output_type": "display_data"
    },
    {
     "data": {
      "image/png": "[encoded data removed]",
      "text/plain": [
       "<Figure size 360x360 with 1 Axes>"
      ]
     },
     "metadata": {
      "needs_background": "light"
     },
     "output_type": "display_data"
    },
    {
     "data": {
      "image/png": "[encoded data removed]",
      "text/plain": [
       "<Figure size 360x360 with 1 Axes>"
      ]
     },
     "metadata": {
      "needs_background": "light"
     },
     "output_type": "display_data"
    }
   ],
   "source": [
    "X_columns = X.columns\n",
    "for col in X_columns:\n",
    "    plt.figure(figsize=(5, 5))\n",
    "    plt.title(col)\n",
    "    X[col].hist()"
   ]
  },
  {
   "cell_type": "markdown",
   "metadata": {
    "id": "GGgAHhjL4YrM"
   },
   "source": [
    "'инвестор', 'пол клиента' это бинарные. berth_date = ['месяц рождения клиента', 'день рождения клиента', 'возраст клиента'], contract_date = ['лет с заключения договора', 'месяцев с заключения договора', 'дней с заключения договора'], dath_date = ['лет на момент смерти', 'месяцев на момент смерти', 'дней на момент смерти'] - их можно объеденить соотвественно для date_time,  'баланс cчета' - числовой признак"
   ]
  },
  {
   "cell_type": "code",
   "execution_count": 12,
   "metadata": {
    "executionInfo": {
     "elapsed": 8,
     "status": "ok",
     "timestamp": 1631030036514,
     "user": {
      "displayName": "Andrej Ilin",
      "photoUrl": "",
      "userId": "01152849129143253976"
     },
     "user_tz": -180
    },
    "id": "XzjEpCGS_4g8"
   },
   "outputs": [],
   "source": [
    "berth_date = ['день рождения клиента',\n",
    "              'месяц рождения клиента', 'возраст клиента']\n",
    "contr_date = ['лет с заключения договора',\n",
    "              'месяцев с заключения договора', 'дней с заключения договора']\n",
    "dath_date = ['лет на момент смерти',\n",
    "             'месяцев на момент смерти', 'дней на момент смерти']"
   ]
  },
  {
   "cell_type": "markdown",
   "metadata": {
    "id": "wGBBxEzZC7sS"
   },
   "source": [
    "## Создадим новые признаки.\n",
    "__________"
   ]
  },
  {
   "cell_type": "code",
   "execution_count": 13,
   "metadata": {
    "executionInfo": {
     "elapsed": 510,
     "status": "ok",
     "timestamp": 1631030037017,
     "user": {
      "displayName": "Andrej Ilin",
      "photoUrl": "",
      "userId": "01152849129143253976"
     },
     "user_tz": -180
    },
    "id": "uWuoUJEGDK-E"
   },
   "outputs": [],
   "source": [
    "# Объеденим несколько признаков во едино.\n",
    "X['contract_days'] = X.apply(lambda row: row[contr_date[0]]*365 +\n",
    "                             row[contr_date[1]]*30 +\n",
    "                             row[contr_date[2]], axis=1)\n",
    "\n",
    "X['live_days'] = X.apply(lambda row: row[dath_date[0]]*365 +\n",
    "                         row[dath_date[1]]*30 +\n",
    "                         row[dath_date[2]], axis=1)"
   ]
  },
  {
   "cell_type": "code",
   "execution_count": 14,
   "metadata": {
    "colab": {
     "base_uri": "https://localhost:8080/",
     "height": 0
    },
    "executionInfo": {
     "elapsed": 475,
     "status": "ok",
     "timestamp": 1631030037483,
     "user": {
      "displayName": "Andrej Ilin",
      "photoUrl": "",
      "userId": "01152849129143253976"
     },
     "user_tz": -180
    },
    "id": "2dbhI3g5WRLs",
    "outputId": "264cc80a-355d-4db6-f391-b2430e32fe97"
   },
   "outputs": [
    {
     "data": {
      "image/png": "[encoded data removed]",
      "text/plain": [
       "<Figure size 360x360 with 1 Axes>"
      ]
     },
     "metadata": {
      "needs_background": "light"
     },
     "output_type": "display_data"
    },
    {
     "data": {
      "image/png": "[encoded data removed]",
      "text/plain": [
       "<Figure size 360x360 with 1 Axes>"
      ]
     },
     "metadata": {
      "needs_background": "light"
     },
     "output_type": "display_data"
    }
   ],
   "source": [
    "columns_contr = ['contract_days', 'лет с заключения договора']\n",
    "for col in columns_contr:\n",
    "    plt.figure(figsize=(5, 5))\n",
    "    plt.title(col)\n",
    "    X[col].hist()"
   ]
  },
  {
   "cell_type": "code",
   "execution_count": 15,
   "metadata": {
    "executionInfo": {
     "elapsed": 19,
     "status": "ok",
     "timestamp": 1631030037485,
     "user": {
      "displayName": "Andrej Ilin",
      "photoUrl": "",
      "userId": "01152849129143253976"
     },
     "user_tz": -180
    },
    "id": "bhXvW_eyWx1X"
   },
   "outputs": [],
   "source": [
    "# удалим лишние столбцы ['лет с заключения договора', 'месяцев с заключения договора', 'дней с заключения договора']\n",
    "X.drop(contr_date, axis=1, inplace=True)"
   ]
  },
  {
   "cell_type": "code",
   "execution_count": 16,
   "metadata": {
    "colab": {
     "base_uri": "https://localhost:8080/",
     "height": 0
    },
    "executionInfo": {
     "elapsed": 19,
     "status": "ok",
     "timestamp": 1631030037486,
     "user": {
      "displayName": "Andrej Ilin",
      "photoUrl": "",
      "userId": "01152849129143253976"
     },
     "user_tz": -180
    },
    "id": "l_8LyYBYiLh8",
    "outputId": "1a26cf80-5613-4010-c79a-b4029a7a0d72"
   },
   "outputs": [
    {
     "data": {
      "text/plain": [
       "<matplotlib.axes._subplots.AxesSubplot at 0x7fda5d423910>"
      ]
     },
     "execution_count": 16,
     "metadata": {},
     "output_type": "execute_result"
    },
    {
     "data": {
      "image/png": "[encoded data removed]",
      "text/plain": [
       "<Figure size 360x360 with 1 Axes>"
      ]
     },
     "metadata": {
      "needs_background": "light"
     },
     "output_type": "display_data"
    }
   ],
   "source": [
    "X['contract_days'] = np.log(X['contract_days'] + 1)\n",
    "plt.figure(figsize=(5, 5))\n",
    "plt.title(\"contract_days\")\n",
    "X[\"contract_days\"].hist()"
   ]
  },
  {
   "cell_type": "markdown",
   "metadata": {
    "id": "Fx8y8PVcZqvG"
   },
   "source": []
  },
  {
   "cell_type": "code",
   "execution_count": 17,
   "metadata": {
    "executionInfo": {
     "elapsed": 11,
     "status": "ok",
     "timestamp": 1631030037487,
     "user": {
      "displayName": "Andrej Ilin",
      "photoUrl": "",
      "userId": "01152849129143253976"
     },
     "user_tz": -180
    },
    "id": "FbUj0LMSbLNT"
   },
   "outputs": [],
   "source": [
    "X['live'] = (X['live_days'] == 0).map(int)\n",
    "X['have_maney'] = (X['баланс счета'] == 0).map(int)"
   ]
  },
  {
   "cell_type": "code",
   "execution_count": 18,
   "metadata": {
    "colab": {
     "base_uri": "https://localhost:8080/",
     "height": 0
    },
    "executionInfo": {
     "elapsed": 356,
     "status": "ok",
     "timestamp": 1631030037834,
     "user": {
      "displayName": "Andrej Ilin",
      "photoUrl": "",
      "userId": "01152849129143253976"
     },
     "user_tz": -180
    },
    "id": "t49iY5HmbEch",
    "outputId": "07968fab-6d7a-475b-9d21-94813835024b"
   },
   "outputs": [
    {
     "data": {
      "image/png": "[encoded data removed]",
      "text/plain": [
       "<Figure size 360x360 with 1 Axes>"
      ]
     },
     "metadata": {
      "needs_background": "light"
     },
     "output_type": "display_data"
    },
    {
     "data": {
      "image/png": "[encoded data removed]",
      "text/plain": [
       "<Figure size 360x360 with 1 Axes>"
      ]
     },
     "metadata": {
      "needs_background": "light"
     },
     "output_type": "display_data"
    }
   ],
   "source": [
    "columns_contr = ['live_days', 'лет на момент смерти']\n",
    "for col in columns_contr:\n",
    "    plt.figure(figsize=(5, 5))\n",
    "    plt.title(col)\n",
    "    X[col].hist()"
   ]
  },
  {
   "cell_type": "code",
   "execution_count": 19,
   "metadata": {
    "executionInfo": {
     "elapsed": 14,
     "status": "ok",
     "timestamp": 1631030037835,
     "user": {
      "displayName": "Andrej Ilin",
      "photoUrl": "",
      "userId": "01152849129143253976"
     },
     "user_tz": -180
    },
    "id": "L1rV-khDb_zU"
   },
   "outputs": [],
   "source": [
    "X.drop(dath_date, axis=1, inplace=True)"
   ]
  },
  {
   "cell_type": "code",
   "execution_count": 20,
   "metadata": {
    "colab": {
     "base_uri": "https://localhost:8080/",
     "height": 0
    },
    "executionInfo": {
     "elapsed": 13,
     "status": "ok",
     "timestamp": 1631030037835,
     "user": {
      "displayName": "Andrej Ilin",
      "photoUrl": "",
      "userId": "01152849129143253976"
     },
     "user_tz": -180
    },
    "id": "0HK9Qbk7a8f7",
    "outputId": "521b6758-a8bc-425b-c351-20f6b6a0aed9"
   },
   "outputs": [
    {
     "data": {
      "text/html": [
       "<div>\n",
       "<style scoped>\n",
       "    .dataframe tbody tr th:only-of-type {\n",
       "        vertical-align: middle;\n",
       "    }\n",
       "\n",
       "    .dataframe tbody tr th {\n",
       "        vertical-align: top;\n",
       "    }\n",
       "\n",
       "    .dataframe thead th {\n",
       "        text-align: right;\n",
       "    }\n",
       "</style>\n",
       "<table border=\"1\" class=\"dataframe\">\n",
       "  <thead>\n",
       "    <tr style=\"text-align: right;\">\n",
       "      <th></th>\n",
       "      <th>инвестор</th>\n",
       "      <th>пол клиента</th>\n",
       "      <th>баланс счета</th>\n",
       "      <th>возраст клиента</th>\n",
       "      <th>месяц рождения клиента</th>\n",
       "      <th>день рождения клиента</th>\n",
       "      <th>contract_days</th>\n",
       "      <th>live_days</th>\n",
       "      <th>live</th>\n",
       "      <th>have_maney</th>\n",
       "    </tr>\n",
       "  </thead>\n",
       "  <tbody>\n",
       "    <tr>\n",
       "      <th>0</th>\n",
       "      <td>ФЛ</td>\n",
       "      <td>м</td>\n",
       "      <td>5086.37</td>\n",
       "      <td>61</td>\n",
       "      <td>6</td>\n",
       "      <td>14</td>\n",
       "      <td>8.551015</td>\n",
       "      <td>0</td>\n",
       "      <td>1</td>\n",
       "      <td>0</td>\n",
       "    </tr>\n",
       "    <tr>\n",
       "      <th>1</th>\n",
       "      <td>ФЛ</td>\n",
       "      <td>м</td>\n",
       "      <td>33150.38</td>\n",
       "      <td>61</td>\n",
       "      <td>7</td>\n",
       "      <td>8</td>\n",
       "      <td>8.312381</td>\n",
       "      <td>0</td>\n",
       "      <td>1</td>\n",
       "      <td>0</td>\n",
       "    </tr>\n",
       "    <tr>\n",
       "      <th>2</th>\n",
       "      <td>ФЛ</td>\n",
       "      <td>м</td>\n",
       "      <td>0.00</td>\n",
       "      <td>70</td>\n",
       "      <td>6</td>\n",
       "      <td>8</td>\n",
       "      <td>8.607034</td>\n",
       "      <td>25892</td>\n",
       "      <td>0</td>\n",
       "      <td>1</td>\n",
       "    </tr>\n",
       "    <tr>\n",
       "      <th>3</th>\n",
       "      <td>ФЛ</td>\n",
       "      <td>м</td>\n",
       "      <td>0.00</td>\n",
       "      <td>78</td>\n",
       "      <td>9</td>\n",
       "      <td>9</td>\n",
       "      <td>8.554104</td>\n",
       "      <td>28644</td>\n",
       "      <td>0</td>\n",
       "      <td>1</td>\n",
       "    </tr>\n",
       "    <tr>\n",
       "      <th>4</th>\n",
       "      <td>ФЛ</td>\n",
       "      <td>ж</td>\n",
       "      <td>0.00</td>\n",
       "      <td>67</td>\n",
       "      <td>6</td>\n",
       "      <td>29</td>\n",
       "      <td>8.554104</td>\n",
       "      <td>24505</td>\n",
       "      <td>0</td>\n",
       "      <td>1</td>\n",
       "    </tr>\n",
       "  </tbody>\n",
       "</table>\n",
       "</div>"
      ],
      "text/plain": [
       "  инвестор пол клиента  баланс счета  ...  live_days  live  have_maney\n",
       "0       ФЛ           м       5086.37  ...          0     1           0\n",
       "1       ФЛ           м      33150.38  ...          0     1           0\n",
       "2       ФЛ           м          0.00  ...      25892     0           1\n",
       "3       ФЛ           м          0.00  ...      28644     0           1\n",
       "4       ФЛ           ж          0.00  ...      24505     0           1\n",
       "\n",
       "[5 rows x 10 columns]"
      ]
     },
     "execution_count": 20,
     "metadata": {},
     "output_type": "execute_result"
    }
   ],
   "source": [
    "X.head()"
   ]
  },
  {
   "cell_type": "code",
   "execution_count": 21,
   "metadata": {
    "executionInfo": {
     "elapsed": 13,
     "status": "ok",
     "timestamp": 1631030037836,
     "user": {
      "displayName": "Andrej Ilin",
      "photoUrl": "",
      "userId": "01152849129143253976"
     },
     "user_tz": -180
    },
    "id": "7fQHIBsH1cjh"
   },
   "outputs": [],
   "source": [
    "# Отцефруем бинарные признаки\n",
    "bin_cols = ['инвестор', 'пол клиента']\n",
    "label_encoder = LabelEncoder()\n",
    "for col in bin_cols:\n",
    "    X[col] = label_encoder.fit_transform(X[col])"
   ]
  },
  {
   "cell_type": "markdown",
   "metadata": {
    "id": "NwiD1mYs5Fha"
   },
   "source": [
    "# Определение значимости признаков для наших таргетов."
   ]
  },
  {
   "cell_type": "code",
   "execution_count": 22,
   "metadata": {
    "colab": {
     "base_uri": "https://localhost:8080/",
     "height": 629
    },
    "executionInfo": {
     "elapsed": 1217,
     "status": "ok",
     "timestamp": 1631030039361,
     "user": {
      "displayName": "Andrej Ilin",
      "photoUrl": "",
      "userId": "01152849129143253976"
     },
     "user_tz": -180
    },
    "id": "c5AF6Z2CDku7",
    "outputId": "62beefde-b37d-4047-d201-59730242ed95"
   },
   "outputs": [
    {
     "data": {
      "text/plain": [
       "<matplotlib.axes._subplots.AxesSubplot at 0x7fda5bf42ed0>"
      ]
     },
     "execution_count": 22,
     "metadata": {},
     "output_type": "execute_result"
    },
    {
     "data": {
      "image/png": "[encoded data removed]",
      "text/plain": [
       "<Figure size 1152x576 with 2 Axes>"
      ]
     },
     "metadata": {
      "needs_background": "light"
     },
     "output_type": "display_data"
    }
   ],
   "source": [
    "plt.figure(figsize=(16, 8))\n",
    "sns.heatmap(X.corr(), cmap='coolwarm', annot=True)"
   ]
  },
  {
   "cell_type": "code",
   "execution_count": 23,
   "metadata": {
    "executionInfo": {
     "elapsed": 16,
     "status": "ok",
     "timestamp": 1631030039363,
     "user": {
      "displayName": "Andrej Ilin",
      "photoUrl": "",
      "userId": "01152849129143253976"
     },
     "user_tz": -180
    },
    "id": "UhPRN9TcYnPE"
   },
   "outputs": [],
   "source": [
    "# Для оценки значимости числовых переменных будем использовать функцию f_classif из библиотеки sklearn.\n",
    "# num_cols.remove('app_date')\n",
    "# imp_num = pd.Series(f_classif(X[num_cols], df['default'])[0], index = num_cols)\n",
    "# imp_num.sort_values(inplace = True)\n",
    "# imp_num.plot(kind = 'barh')"
   ]
  },
  {
   "cell_type": "code",
   "execution_count": 24,
   "metadata": {
    "executionInfo": {
     "elapsed": 16,
     "status": "ok",
     "timestamp": 1631030039365,
     "user": {
      "displayName": "Andrej Ilin",
      "photoUrl": "",
      "userId": "01152849129143253976"
     },
     "user_tz": -180
    },
    "id": "_bqZ1iCdXteM"
   },
   "outputs": [],
   "source": [
    "# # Станадртизируем признаки\n",
    "# from sklearn.preprocessing import StandardScaler\n",
    "\n",
    "# std = StandardScaler()\n",
    "\n",
    "# cols_to_std = ['contract_days', 'dath_dates']\n",
    "# X_std = std.fit_transform(X[cols_to_std].values)\n",
    "# X_rest = X.drop(cols_to_std, axis=1)\n",
    "# X_new = np.hstack([X_std, X_rest.values])"
   ]
  },
  {
   "cell_type": "markdown",
   "metadata": {
    "id": "3nR4EBMqpfEi"
   },
   "source": [
    "## Прогноз \"тип выплаты\""
   ]
  },
  {
   "cell_type": "code",
   "execution_count": 25,
   "metadata": {
    "executionInfo": {
     "elapsed": 16,
     "status": "ok",
     "timestamp": 1631030039366,
     "user": {
      "displayName": "Andrej Ilin",
      "photoUrl": "",
      "userId": "01152849129143253976"
     },
     "user_tz": -180
    },
    "id": "3rhiB1sMzpYp"
   },
   "outputs": [],
   "source": [
    "y_2 = y.iloc[:, 2]\n",
    "X_train, X_test, y_train, y_test = train_test_split(\n",
    "    X, y_2, stratify=y_2, test_size=0.2, random_state=RANDOM_SEED)"
   ]
  },
  {
   "cell_type": "code",
   "execution_count": 26,
   "metadata": {
    "colab": {
     "base_uri": "https://localhost:8080/",
     "height": 479
    },
    "executionInfo": {
     "elapsed": 597,
     "status": "ok",
     "timestamp": 1631030039947,
     "user": {
      "displayName": "Andrej Ilin",
      "photoUrl": "",
      "userId": "01152849129143253976"
     },
     "user_tz": -180
    },
    "id": "EWUmTzZr0LV9",
    "outputId": "041f7e16-5d9d-46ec-ac13-93def0307475"
   },
   "outputs": [
    {
     "name": "stderr",
     "output_type": "stream",
     "text": [
      "[Parallel(n_jobs=-1)]: Using backend ThreadingBackend with 2 concurrent workers.\n",
      "[Parallel(n_jobs=-1)]: Done  46 tasks      | elapsed:    0.1s\n",
      "[Parallel(n_jobs=-1)]: Done 100 out of 100 | elapsed:    0.3s finished\n",
      "[Parallel(n_jobs=2)]: Using backend ThreadingBackend with 2 concurrent workers.\n",
      "[Parallel(n_jobs=2)]: Done  46 tasks      | elapsed:    0.0s\n",
      "[Parallel(n_jobs=2)]: Done 100 out of 100 | elapsed:    0.0s finished\n",
      "[Parallel(n_jobs=2)]: Using backend ThreadingBackend with 2 concurrent workers.\n",
      "[Parallel(n_jobs=2)]: Done  46 tasks      | elapsed:    0.0s\n",
      "[Parallel(n_jobs=2)]: Done 100 out of 100 | elapsed:    0.0s finished\n"
     ]
    },
    {
     "data": {
      "text/plain": [
       "<sklearn.metrics._plot.confusion_matrix.ConfusionMatrixDisplay at 0x7fda5d531050>"
      ]
     },
     "execution_count": 26,
     "metadata": {},
     "output_type": "execute_result"
    },
    {
     "data": {
      "image/png": "[encoded data removed]",
      "text/plain": [
       "<Figure size 360x360 with 2 Axes>"
      ]
     },
     "metadata": {
      "needs_background": "light"
     },
     "output_type": "display_data"
    }
   ],
   "source": [
    "# Создаём модель\n",
    "model_1 = RandomForestClassifier(\n",
    "    n_estimators=100, max_depth=10, verbose=1, n_jobs=-1, random_state=RANDOM_SEED)\n",
    "model_1.fit(X_train, y_train)\n",
    "y_pred = model_1.predict(X_test)\n",
    "\n",
    "plt.rcParams['figure.figsize'] = (5, 5)\n",
    "plot_confusion_matrix(model_1, X_test, y_test,\n",
    "                      values_format='3g', normalize=\"true\")"
   ]
  },
  {
   "cell_type": "code",
   "execution_count": 27,
   "metadata": {
    "colab": {
     "base_uri": "https://localhost:8080/"
    },
    "executionInfo": {
     "elapsed": 22,
     "status": "ok",
     "timestamp": 1631030039948,
     "user": {
      "displayName": "Andrej Ilin",
      "photoUrl": "",
      "userId": "01152849129143253976"
     },
     "user_tz": -180
    },
    "id": "2e7Gjo__2EZ8",
    "outputId": "64f48b61-28f7-4f07-82e0-0f035305d3d1"
   },
   "outputs": [
    {
     "data": {
      "text/plain": [
       "0.9869477911646586"
      ]
     },
     "execution_count": 27,
     "metadata": {},
     "output_type": "execute_result"
    }
   ],
   "source": [
    "f1_score(y_test, y_pred, average='micro')"
   ]
  },
  {
   "cell_type": "code",
   "execution_count": 28,
   "metadata": {
    "colab": {
     "base_uri": "https://localhost:8080/"
    },
    "executionInfo": {
     "elapsed": 2547,
     "status": "ok",
     "timestamp": 1631030042486,
     "user": {
      "displayName": "Andrej Ilin",
      "photoUrl": "",
      "userId": "01152849129143253976"
     },
     "user_tz": -180
    },
    "id": "vawF0z5MLcfE",
    "outputId": "1805f867-3c09-4a0b-ff15-a47d86b12d5f"
   },
   "outputs": [
    {
     "name": "stdout",
     "output_type": "stream",
     "text": [
      "f1_score: 0.9909638554216867\n"
     ]
    }
   ],
   "source": [
    "model_2 = CatBoostClassifier(\n",
    "    iterations=1100,\n",
    "    learning_rate=0.5,\n",
    "    loss_function=\"MultiClass\",\n",
    "    random_state=42,\n",
    "    verbose=0,\n",
    "    #                           thread_count=4,\n",
    "    depth=3,\n",
    "    l2_leaf_reg=3.28,\n",
    ")\n",
    "\n",
    "model_2.fit(X_train, y_train,)\n",
    "preds = model_2.predict(X_test)\n",
    "print('f1_score:', f1_score(y_test, preds, average='micro'))"
   ]
  },
  {
   "cell_type": "code",
   "execution_count": 29,
   "metadata": {
    "colab": {
     "base_uri": "https://localhost:8080/",
     "height": 326
    },
    "executionInfo": {
     "elapsed": 614,
     "status": "ok",
     "timestamp": 1631030043091,
     "user": {
      "displayName": "Andrej Ilin",
      "photoUrl": "",
      "userId": "01152849129143253976"
     },
     "user_tz": -180
    },
    "id": "Q2ZCLqU5MJ_p",
    "outputId": "9a964d77-c287-46a5-e61e-f320691d73f6"
   },
   "outputs": [
    {
     "data": {
      "text/plain": [
       "<sklearn.metrics._plot.confusion_matrix.ConfusionMatrixDisplay at 0x7fda535a7210>"
      ]
     },
     "execution_count": 29,
     "metadata": {},
     "output_type": "execute_result"
    },
    {
     "data": {
      "image/png": "[encoded data removed]",
      "text/plain": [
       "<Figure size 360x360 with 2 Axes>"
      ]
     },
     "metadata": {
      "needs_background": "light"
     },
     "output_type": "display_data"
    }
   ],
   "source": [
    "plt.rcParams['figure.figsize'] = (5, 5)\n",
    "plot_confusion_matrix(model_2, X_test, y_test,\n",
    "                      values_format='3g', normalize=\"true\")"
   ]
  },
  {
   "cell_type": "markdown",
   "metadata": {
    "id": "FhWTrNoCovcs"
   },
   "source": [
    "## Подбор гиперпараметров"
   ]
  },
  {
   "cell_type": "code",
   "execution_count": 30,
   "metadata": {
    "executionInfo": {
     "elapsed": 12,
     "status": "ok",
     "timestamp": 1631030043092,
     "user": {
      "displayName": "Andrej Ilin",
      "photoUrl": "",
      "userId": "01152849129143253976"
     },
     "user_tz": -180
    },
    "id": "T3PhC82koRRw"
   },
   "outputs": [],
   "source": [
    "# xgb = XGBClassifier()\n",
    "# steps_float = list(np.linspace(1e-8, 1, num=10))\n",
    "# params = {'n_estimators': [100, 200, 400, 500, 800, 1000], 'max_depth': [\n",
    "#     3, 4, 5, 6, 7, 8, 9, 10], 'learning_rate': steps_float}\n",
    "# gsc = GridSearchCV(xgb, param_grid=params, n_jobs=-1)\n",
    "# gsc.fit(X_train, y_train,)"
   ]
  },
  {
   "cell_type": "code",
   "execution_count": 31,
   "metadata": {
    "executionInfo": {
     "elapsed": 11,
     "status": "ok",
     "timestamp": 1631030043093,
     "user": {
      "displayName": "Andrej Ilin",
      "photoUrl": "",
      "userId": "01152849129143253976"
     },
     "user_tz": -180
    },
    "id": "eT7qf57VGJYg"
   },
   "outputs": [],
   "source": [
    "gsc.best_params_ # {'learning_rate': 0.11111112, 'max_depth': 3, 'n_estimators': 1000}"
   ]
  },
  {
   "cell_type": "code",
   "execution_count": 32,
   "metadata": {
    "executionInfo": {
     "elapsed": 5172,
     "status": "ok",
     "timestamp": 1631030048255,
     "user": {
      "displayName": "Andrej Ilin",
      "photoUrl": "",
      "userId": "01152849129143253976"
     },
     "user_tz": -180
    },
    "id": "7GTjD5QiQRId"
   },
   "outputs": [],
   "source": [
    "xgb = XGBClassifier(max_depth=3, n_estimators=1000, learning_rate=0.1)\n",
    "xgb.fit(X_train, y_train)\n",
    "y_pred = xgb.predict(X_test)"
   ]
  },
  {
   "cell_type": "code",
   "execution_count": 33,
   "metadata": {
    "colab": {
     "base_uri": "https://localhost:8080/",
     "height": 326
    },
    "executionInfo": {
     "elapsed": 22,
     "status": "ok",
     "timestamp": 1631030048256,
     "user": {
      "displayName": "Andrej Ilin",
      "photoUrl": "",
      "userId": "01152849129143253976"
     },
     "user_tz": -180
    },
    "id": "iROgGOdnlUuq",
    "outputId": "a9c65f27-af4f-46bd-8c7c-5d0d94e7e25c"
   },
   "outputs": [
    {
     "data": {
      "text/plain": [
       "<sklearn.metrics._plot.confusion_matrix.ConfusionMatrixDisplay at 0x7fda5d5a8d50>"
      ]
     },
     "execution_count": 33,
     "metadata": {},
     "output_type": "execute_result"
    },
    {
     "data": {
      "image/png": "[encoded data removed]",
      "text/plain": [
       "<Figure size 360x360 with 2 Axes>"
      ]
     },
     "metadata": {
      "needs_background": "light"
     },
     "output_type": "display_data"
    }
   ],
   "source": [
    "plt.rcParams['figure.figsize'] = (5, 5)\n",
    "plot_confusion_matrix(xgb, X_test, y_test,\n",
    "                      values_format='3g', normalize=\"true\")"
   ]
  },
  {
   "cell_type": "code",
   "execution_count": 34,
   "metadata": {
    "colab": {
     "base_uri": "https://localhost:8080/"
    },
    "executionInfo": {
     "elapsed": 12,
     "status": "ok",
     "timestamp": 1631030048257,
     "user": {
      "displayName": "Andrej Ilin",
      "photoUrl": "",
      "userId": "01152849129143253976"
     },
     "user_tz": -180
    },
    "id": "FO3sm6zB2m1z",
    "outputId": "75c8d6ae-59c2-4e37-9591-d8da58f59323"
   },
   "outputs": [
    {
     "data": {
      "text/plain": [
       "0.9859437751004017"
      ]
     },
     "execution_count": 34,
     "metadata": {},
     "output_type": "execute_result"
    }
   ],
   "source": [
    "f1_score(y_test, y_pred, average='micro')"
   ]
  },
  {
   "cell_type": "markdown",
   "metadata": {
    "id": "ICget8NUpw3J"
   },
   "source": [
    "## Прогноз месяц выплаты\t"
   ]
  },
  {
   "cell_type": "code",
   "execution_count": 35,
   "metadata": {
    "executionInfo": {
     "elapsed": 10,
     "status": "ok",
     "timestamp": 1631030048258,
     "user": {
      "displayName": "Andrej Ilin",
      "photoUrl": "",
      "userId": "01152849129143253976"
     },
     "user_tz": -180
    },
    "id": "A6Euhin8p4ie"
   },
   "outputs": [],
   "source": [
    "y_0 = y.iloc[:, 0]\n",
    "X_train, X_test, y_train, y_test = train_test_split(\n",
    "    X, y_0, stratify=y_0, test_size=0.1, random_state=RANDOM_SEED)"
   ]
  },
  {
   "cell_type": "code",
   "execution_count": 36,
   "metadata": {
    "colab": {
     "base_uri": "https://localhost:8080/"
    },
    "executionInfo": {
     "elapsed": 436,
     "status": "ok",
     "timestamp": 1631030048684,
     "user": {
      "displayName": "Andrej Ilin",
      "photoUrl": "",
      "userId": "01152849129143253976"
     },
     "user_tz": -180
    },
    "id": "YrD3tjF7qyvN",
    "outputId": "7e69fb45-42b2-40b7-a300-a8021609bdd2"
   },
   "outputs": [
    {
     "name": "stderr",
     "output_type": "stream",
     "text": [
      "[Parallel(n_jobs=-1)]: Using backend ThreadingBackend with 2 concurrent workers.\n",
      "[Parallel(n_jobs=-1)]: Done  46 tasks      | elapsed:    0.2s\n",
      "[Parallel(n_jobs=-1)]: Done 100 out of 100 | elapsed:    0.4s finished\n",
      "[Parallel(n_jobs=2)]: Using backend ThreadingBackend with 2 concurrent workers.\n",
      "[Parallel(n_jobs=2)]: Done  46 tasks      | elapsed:    0.0s\n",
      "[Parallel(n_jobs=2)]: Done 100 out of 100 | elapsed:    0.0s finished\n"
     ]
    }
   ],
   "source": [
    "# Создаём модель\n",
    "model = RandomForestClassifier(\n",
    "    n_estimators=100, max_depth=10, verbose=1, n_jobs=-1, random_state=RANDOM_SEED)\n",
    "model.fit(X_train, y_train)\n",
    "y_pred = model.predict(X_test)"
   ]
  },
  {
   "cell_type": "code",
   "execution_count": 37,
   "metadata": {
    "colab": {
     "base_uri": "https://localhost:8080/",
     "height": 757
    },
    "executionInfo": {
     "elapsed": 1349,
     "status": "ok",
     "timestamp": 1631030050029,
     "user": {
      "displayName": "Andrej Ilin",
      "photoUrl": "",
      "userId": "01152849129143253976"
     },
     "user_tz": -180
    },
    "id": "rrYo4thmq3OL",
    "outputId": "ed3ca778-bc21-4eba-fad9-043c74d31f62"
   },
   "outputs": [
    {
     "name": "stderr",
     "output_type": "stream",
     "text": [
      "[Parallel(n_jobs=2)]: Using backend ThreadingBackend with 2 concurrent workers.\n",
      "[Parallel(n_jobs=2)]: Done  46 tasks      | elapsed:    0.0s\n",
      "[Parallel(n_jobs=2)]: Done 100 out of 100 | elapsed:    0.0s finished\n"
     ]
    },
    {
     "data": {
      "text/plain": [
       "<sklearn.metrics._plot.confusion_matrix.ConfusionMatrixDisplay at 0x7fda5d435ed0>"
      ]
     },
     "execution_count": 37,
     "metadata": {},
     "output_type": "execute_result"
    },
    {
     "data": {
      "image/png": "[encoded data removed]",
      "text/plain": [
       "<Figure size 864x864 with 2 Axes>"
      ]
     },
     "metadata": {
      "needs_background": "light"
     },
     "output_type": "display_data"
    }
   ],
   "source": [
    "plt.rcParams['figure.figsize'] = (12, 12)\n",
    "plot_confusion_matrix(model, X_test, y_test, normalize=\"true\")"
   ]
  },
  {
   "cell_type": "code",
   "execution_count": 38,
   "metadata": {
    "colab": {
     "base_uri": "https://localhost:8080/"
    },
    "executionInfo": {
     "elapsed": 16,
     "status": "ok",
     "timestamp": 1631030050031,
     "user": {
      "displayName": "Andrej Ilin",
      "photoUrl": "",
      "userId": "01152849129143253976"
     },
     "user_tz": -180
    },
    "id": "6DO563X83Qbi",
    "outputId": "03e31199-26e2-44e1-aac3-c1f24ee83f50"
   },
   "outputs": [
    {
     "data": {
      "text/plain": [
       "0.395582329317269"
      ]
     },
     "execution_count": 38,
     "metadata": {},
     "output_type": "execute_result"
    }
   ],
   "source": [
    "f1_score(y_test, y_pred, average='micro')"
   ]
  },
  {
   "cell_type": "code",
   "execution_count": 39,
   "metadata": {
    "colab": {
     "base_uri": "https://localhost:8080/"
    },
    "executionInfo": {
     "elapsed": 22353,
     "status": "ok",
     "timestamp": 1631030072375,
     "user": {
      "displayName": "Andrej Ilin",
      "photoUrl": "",
      "userId": "01152849129143253976"
     },
     "user_tz": -180
    },
    "id": "zc_krNNTyNeP",
    "outputId": "1830d3fa-25f2-4ebd-faf6-9f23f0ceae74"
   },
   "outputs": [
    {
     "data": {
      "text/plain": [
       "0.44779116465863456"
      ]
     },
     "execution_count": 39,
     "metadata": {},
     "output_type": "execute_result"
    }
   ],
   "source": [
    "# добавление параметров objective=\"multi:softmax\",  num_class=12 на качество не повлияло\n",
    "xgb = XGBClassifier(max_depth=3, n_estimators=1000, learning_rate=0.1,\n",
    "                    objective=\"multi:softmax\",  num_class=12)\n",
    "xgb.fit(X_train, y_train)\n",
    "y_pred = xgb.predict(X_test)\n",
    "f1_score(y_test, y_pred, average='micro')"
   ]
  },
  {
   "cell_type": "code",
   "execution_count": 40,
   "metadata": {
    "colab": {
     "base_uri": "https://localhost:8080/",
     "height": 706
    },
    "executionInfo": {
     "elapsed": 581,
     "status": "ok",
     "timestamp": 1631030072933,
     "user": {
      "displayName": "Andrej Ilin",
      "photoUrl": "",
      "userId": "01152849129143253976"
     },
     "user_tz": -180
    },
    "id": "0YTjAc1ezbR2",
    "outputId": "e5aa1707-9e6e-45a5-8203-6c0d675b2d57"
   },
   "outputs": [
    {
     "data": {
      "text/plain": [
       "<sklearn.metrics._plot.confusion_matrix.ConfusionMatrixDisplay at 0x7fda51c85b10>"
      ]
     },
     "execution_count": 40,
     "metadata": {},
     "output_type": "execute_result"
    },
    {
     "data": {
      "image/png": "[encoded data removed]",
      "text/plain": [
       "<Figure size 864x864 with 2 Axes>"
      ]
     },
     "metadata": {
      "needs_background": "light"
     },
     "output_type": "display_data"
    }
   ],
   "source": [
    "plot_confusion_matrix(xgb, X_test, y_test, values_format='3g')"
   ]
  },
  {
   "cell_type": "markdown",
   "metadata": {
    "id": "fRLloif08OWc"
   },
   "source": [
    "## Прогноз \"сумма выплаты\""
   ]
  },
  {
   "cell_type": "code",
   "execution_count": 41,
   "metadata": {
    "colab": {
     "base_uri": "https://localhost:8080/",
     "height": 142
    },
    "executionInfo": {
     "elapsed": 26,
     "status": "ok",
     "timestamp": 1631030072934,
     "user": {
      "displayName": "Andrej Ilin",
      "photoUrl": "",
      "userId": "01152849129143253976"
     },
     "user_tz": -180
    },
    "id": "2Ocsf8XOZt-8",
    "outputId": "0858bc2d-1501-4fa6-b4fc-788b151fc5ac"
   },
   "outputs": [
    {
     "data": {
      "text/html": [
       "<div>\n",
       "<style scoped>\n",
       "    .dataframe tbody tr th:only-of-type {\n",
       "        vertical-align: middle;\n",
       "    }\n",
       "\n",
       "    .dataframe tbody tr th {\n",
       "        vertical-align: top;\n",
       "    }\n",
       "\n",
       "    .dataframe thead th {\n",
       "        text-align: right;\n",
       "    }\n",
       "</style>\n",
       "<table border=\"1\" class=\"dataframe\">\n",
       "  <thead>\n",
       "    <tr style=\"text-align: right;\">\n",
       "      <th></th>\n",
       "      <th>инвестор</th>\n",
       "      <th>пол клиента</th>\n",
       "      <th>баланс счета</th>\n",
       "      <th>возраст клиента</th>\n",
       "      <th>месяц рождения клиента</th>\n",
       "      <th>день рождения клиента</th>\n",
       "      <th>contract_days</th>\n",
       "      <th>live_days</th>\n",
       "      <th>live</th>\n",
       "      <th>have_maney</th>\n",
       "    </tr>\n",
       "  </thead>\n",
       "  <tbody>\n",
       "    <tr>\n",
       "      <th>0</th>\n",
       "      <td>0</td>\n",
       "      <td>1</td>\n",
       "      <td>5086.37</td>\n",
       "      <td>61</td>\n",
       "      <td>6</td>\n",
       "      <td>14</td>\n",
       "      <td>8.551015</td>\n",
       "      <td>0</td>\n",
       "      <td>1</td>\n",
       "      <td>0</td>\n",
       "    </tr>\n",
       "    <tr>\n",
       "      <th>1</th>\n",
       "      <td>0</td>\n",
       "      <td>1</td>\n",
       "      <td>33150.38</td>\n",
       "      <td>61</td>\n",
       "      <td>7</td>\n",
       "      <td>8</td>\n",
       "      <td>8.312381</td>\n",
       "      <td>0</td>\n",
       "      <td>1</td>\n",
       "      <td>0</td>\n",
       "    </tr>\n",
       "    <tr>\n",
       "      <th>2</th>\n",
       "      <td>0</td>\n",
       "      <td>1</td>\n",
       "      <td>0.00</td>\n",
       "      <td>70</td>\n",
       "      <td>6</td>\n",
       "      <td>8</td>\n",
       "      <td>8.607034</td>\n",
       "      <td>25892</td>\n",
       "      <td>0</td>\n",
       "      <td>1</td>\n",
       "    </tr>\n",
       "  </tbody>\n",
       "</table>\n",
       "</div>"
      ],
      "text/plain": [
       "   инвестор  пол клиента  баланс счета  ...  live_days  live  have_maney\n",
       "0         0            1       5086.37  ...          0     1           0\n",
       "1         0            1      33150.38  ...          0     1           0\n",
       "2         0            1          0.00  ...      25892     0           1\n",
       "\n",
       "[3 rows x 10 columns]"
      ]
     },
     "execution_count": 41,
     "metadata": {},
     "output_type": "execute_result"
    }
   ],
   "source": [
    "X_1 = X.copy()\n",
    "X_1.head(3)"
   ]
  },
  {
   "cell_type": "code",
   "execution_count": 42,
   "metadata": {
    "executionInfo": {
     "elapsed": 26,
     "status": "ok",
     "timestamp": 1631030072935,
     "user": {
      "displayName": "Andrej Ilin",
      "photoUrl": "",
      "userId": "01152849129143253976"
     },
     "user_tz": -180
    },
    "id": "aF1cIhNLbrfy"
   },
   "outputs": [],
   "source": [
    "# Станадртизируем признаки\n",
    "# from sklearn.preprocessing import StandardScaler\n",
    "\n",
    "# std = StandardScaler()\n",
    "\n",
    "# cols_to_std = ['баланс счета']\n",
    "# X_std = std.fit_transform(X_1[cols_to_std])\n",
    "# X_std = pd.DataFrame(data=X_std, columns=cols_to_std)\n",
    "# X_rest = X_1.drop(cols_to_std, axis=1)\n",
    "# X_1 = pd.concat([X_std, X_rest], axis=1)"
   ]
  },
  {
   "cell_type": "code",
   "execution_count": 43,
   "metadata": {
    "executionInfo": {
     "elapsed": 26,
     "status": "ok",
     "timestamp": 1631030072936,
     "user": {
      "displayName": "Andrej Ilin",
      "photoUrl": "",
      "userId": "01152849129143253976"
     },
     "user_tz": -180
    },
    "id": "njiY_aAnZ1IF"
   },
   "outputs": [],
   "source": [
    "# Добавим новые признаки - выполним разбение значений некоторых столбцов по 10 категорий.\n",
    "X_1['contract_days_bins'] = pd.cut(X_1['contract_days'], bins=10, labels=[\n",
    "                                   str(x) for x in range(1, 11)]).astype(int)\n",
    "X_1['live_days_bins'] = pd.cut(X_1['баланс счета'], bins=10, labels=[\n",
    "                               str(x) for x in range(1, 11)]).astype(int)"
   ]
  },
  {
   "cell_type": "code",
   "execution_count": 44,
   "metadata": {
    "executionInfo": {
     "elapsed": 26,
     "status": "ok",
     "timestamp": 1631030072936,
     "user": {
      "displayName": "Andrej Ilin",
      "photoUrl": "",
      "userId": "01152849129143253976"
     },
     "user_tz": -180
    },
    "id": "5GUbuiBE8Svc"
   },
   "outputs": [],
   "source": [
    "y_1 = y.iloc[:, 1]\n",
    "X_train, X_test, y_train, y_test = train_test_split(\n",
    "    X_1, y_1, test_size=0.2, random_state=RANDOM_SEED)"
   ]
  },
  {
   "cell_type": "code",
   "execution_count": 45,
   "metadata": {
    "colab": {
     "base_uri": "https://localhost:8080/"
    },
    "executionInfo": {
     "elapsed": 27,
     "status": "ok",
     "timestamp": 1631030072938,
     "user": {
      "displayName": "Andrej Ilin",
      "photoUrl": "",
      "userId": "01152849129143253976"
     },
     "user_tz": -180
    },
    "id": "P9tpUWOA8aMN",
    "outputId": "f8dba8c4-a602-45f6-b931-d0b401cacc90"
   },
   "outputs": [
    {
     "name": "stdout",
     "output_type": "stream",
     "text": [
      "MAE: 1775.1700950373731\n"
     ]
    }
   ],
   "source": [
    "clf = Ridge(alpha=1, random_state=42)\n",
    "clf.fit(X_train, np.log(y_train+1))\n",
    "preds_2 = clf.predict(X_test)\n",
    "# y_pred_sum = np.exp(XGBRe.predict(X_test_1))-1)\n",
    "preds_2 = np.exp(clf.predict(X_test)-1)\n",
    "print('MAE:', mean_absolute_error(y_test, preds_2))"
   ]
  },
  {
   "cell_type": "code",
   "execution_count": 46,
   "metadata": {
    "colab": {
     "base_uri": "https://localhost:8080/"
    },
    "executionInfo": {
     "elapsed": 17380,
     "status": "ok",
     "timestamp": 1631030090301,
     "user": {
      "displayName": "Andrej Ilin",
      "photoUrl": "",
      "userId": "01152849129143253976"
     },
     "user_tz": -180
    },
    "id": "Z3TUsB1O_SLn",
    "outputId": "56dfe53f-8417-41f7-ce83-e5079ef83286"
   },
   "outputs": [
    {
     "name": "stdout",
     "output_type": "stream",
     "text": [
      "[15:54:32] WARNING: /workspace/src/objective/regression_obj.cu:152: reg:linear is now deprecated in favor of reg:squarederror.\n",
      "MAE: 1556.7687240330522\n"
     ]
    }
   ],
   "source": [
    "xgb_params = {'n_estimators': 10000,\n",
    "              'learning_rate': 0.05,\n",
    "              'subsample': 0.926,\n",
    "              'colsample_bytree': 0.84,\n",
    "              'max_depth': 2,\n",
    "              'booster': 'gbtree',\n",
    "              'reg_lambda': 35.1,\n",
    "              'reg_alpha': 34.9,\n",
    "              'random_state': 42,\n",
    "              'n_jobs': 4}\n",
    "XGBRe = XGBRegressor(**xgb_params)\n",
    "XGBRe.fit(X_train, np.log(y_train+1))\n",
    "preds_2 = XGBRe.predict(X_test)\n",
    "preds_2 = np.exp(XGBRe.predict(X_test))-1\n",
    "print('MAE:', mean_absolute_error(y_test, preds_2))"
   ]
  },
  {
   "cell_type": "markdown",
   "metadata": {
    "id": "uUcIIeUfgcam"
   },
   "source": [
    "# Подготвка данных x_new и предсказание лучших моделей.\n"
   ]
  },
  {
   "cell_type": "code",
   "execution_count": 47,
   "metadata": {
    "executionInfo": {
     "elapsed": 34545,
     "status": "ok",
     "timestamp": 1631030124834,
     "user": {
      "displayName": "Andrej Ilin",
      "photoUrl": "",
      "userId": "01152849129143253976"
     },
     "user_tz": -180
    },
    "id": "i7L1X1DAjxXO"
   },
   "outputs": [],
   "source": [
    "X = pd.read_excel('/content/drive/MyDrive/TЗ_Будущее/x_train.xlsx')\n",
    "y = pd.read_excel('/content/drive/MyDrive/TЗ_Будущее/y_train.xlsx')\n",
    "x_new = pd.read_excel('/content/drive/MyDrive/TЗ_Будущее/x_new.xlsx')\n",
    "\n",
    "berth_date = ['день рождения клиента',\n",
    "              'месяц рождения клиента', 'возраст клиента']\n",
    "contr_date = ['лет с заключения договора',\n",
    "              'месяцев с заключения договора', 'дней с заключения договора']\n",
    "dath_date = ['лет на момент смерти',\n",
    "             'месяцев на момент смерти', 'дней на момент смерти']"
   ]
  },
  {
   "cell_type": "code",
   "execution_count": 48,
   "metadata": {
    "executionInfo": {
     "elapsed": 10,
     "status": "ok",
     "timestamp": 1631030124836,
     "user": {
      "displayName": "Andrej Ilin",
      "photoUrl": "",
      "userId": "01152849129143253976"
     },
     "user_tz": -180
    },
    "id": "zheUhVQIkHd5"
   },
   "outputs": [],
   "source": [
    "X['Train'] = True  # помечаем где у нас трейн\n",
    "x_new['Train'] = False  # помечаем где у нас тест\n",
    "X = pd.concat([X, x_new], ignore_index=True)  # Объединяем"
   ]
  },
  {
   "cell_type": "code",
   "execution_count": 49,
   "metadata": {
    "executionInfo": {
     "elapsed": 11157,
     "status": "ok",
     "timestamp": 1631030135986,
     "user": {
      "displayName": "Andrej Ilin",
      "photoUrl": "",
      "userId": "01152849129143253976"
     },
     "user_tz": -180
    },
    "id": "dm2ySZT8kGn0"
   },
   "outputs": [],
   "source": [
    "# Объеденим несколько признаков во едино.\n",
    "X['contract_days'] = X.apply(lambda row: row[contr_date[0]]*365 +\n",
    "                             row[contr_date[1]]*30 +\n",
    "                             row[contr_date[2]], axis=1)\n",
    "\n",
    "X['live_days'] = X.apply(lambda row: row[dath_date[0]]*365 +\n",
    "                         row[dath_date[1]]*30 +\n",
    "                         row[dath_date[2]], axis=1)\n",
    "\n",
    "# удалим лишние столбцы ['лет с заключения договора', 'месяцев с заключения договора', 'дней с заключения договора']\n",
    "X.drop(contr_date, axis=1, inplace=True)\n",
    "X.drop(dath_date, axis=1, inplace=True)\n",
    "\n",
    "X['contract_days'] = np.log(X['contract_days'] + 1)\n",
    "\n",
    "X['live'] = (X['live_days'] == 0).map(int)\n",
    "X['have_maney'] = (X['баланс счета'] == 0).map(int)\n",
    "\n",
    "# Отцефруем бинарные признаки\n",
    "bin_cols = ['инвестор', 'пол клиента']\n",
    "label_encoder = LabelEncoder()\n",
    "for col in bin_cols:\n",
    "    X[col] = label_encoder.fit_transform(X[col])"
   ]
  },
  {
   "cell_type": "code",
   "execution_count": 50,
   "metadata": {
    "colab": {
     "base_uri": "https://localhost:8080/"
    },
    "executionInfo": {
     "elapsed": 405800,
     "status": "ok",
     "timestamp": 1631030541773,
     "user": {
      "displayName": "Andrej Ilin",
      "photoUrl": "",
      "userId": "01152849129143253976"
     },
     "user_tz": -180
    },
    "id": "BN4cEC-Norg9",
    "outputId": "c33b384d-4209-4cfd-eda7-5e5582761d70"
   },
   "outputs": [
    {
     "name": "stdout",
     "output_type": "stream",
     "text": [
      "[16:00:44] WARNING: /workspace/src/objective/regression_obj.cu:152: reg:linear is now deprecated in favor of reg:squarederror.\n"
     ]
    }
   ],
   "source": [
    "X_train = X[X.Train].drop('Train', axis=1)\n",
    "X_test = X[~X['Train']].drop('Train', axis=1)\n",
    "y_train_type = y.iloc[:, 2]  # берем тип выплаты\n",
    "\n",
    "# Предсказываем тип выплаты\n",
    "model_2 = CatBoostClassifier(\n",
    "    iterations=1100,\n",
    "    learning_rate=0.5,\n",
    "    loss_function=\"MultiClass\",\n",
    "    random_state=42,\n",
    "    verbose=0,\n",
    "    #                           thread_count=4,\n",
    "    depth=3,\n",
    "    l2_leaf_reg=3.28,\n",
    ")\n",
    "\n",
    "model_2.fit(X_train, y_train_type)\n",
    "y_pred_type = model_2.predict(X_test)\n",
    "y_pred_type = y_pred_type.flatten()\n",
    "\n",
    "# Предсказываем месяц выплаты\n",
    "y_train_month = y.iloc[:, 0]\n",
    "\n",
    "xgb = XGBClassifier(max_depth=3, n_estimators=1000, learning_rate=0.1)\n",
    "xgb.fit(X_train, y_train_month)\n",
    "y_pred_month = xgb.predict(X_test)\n",
    "\n",
    "# Предсказываем с сумму выплаты\n",
    "X_1 = X.copy()\n",
    "\n",
    "# Добавим новые признаки - выполним разбение значений некоторых столбцов по 10 категорий.\n",
    "X_1['contract_days_bins'] = pd.cut(X_1['contract_days'], bins=10, labels=[\n",
    "                                   str(x) for x in range(1, 11)]).astype(int)\n",
    "X_1['live_days_bins'] = pd.cut(X_1['баланс счета'], bins=10, labels=[\n",
    "                               str(x) for x in range(1, 11)]).astype(int)\n",
    "\n",
    "X_train_1 = X_1[X.Train].drop('Train', axis=1)\n",
    "X_test_1 = X_1[~X_1['Train']].drop('Train', axis=1)\n",
    "y_train_sum = y.iloc[:, 1]  # Берем сумму выплаты\n",
    "\n",
    "xgb_params = {'n_estimators': 10000,\n",
    "              'learning_rate': 0.05,\n",
    "              'subsample': 0.926,\n",
    "              'colsample_bytree': 0.84,\n",
    "              'max_depth': 2,\n",
    "              'booster': 'gbtree',\n",
    "              'reg_lambda': 35.1,\n",
    "              'reg_alpha': 34.9,\n",
    "              'random_state': 42,\n",
    "              'n_jobs': -1}\n",
    "XGBRe = XGBRegressor(**xgb_params)\n",
    "XGBRe.fit(X_train_1, np.log(y_train_sum + 1))\n",
    "y_pred_sum = np.exp(XGBRe.predict(X_test_1)) - 1"
   ]
  },
  {
   "cell_type": "code",
   "execution_count": 51,
   "metadata": {
    "colab": {
     "base_uri": "https://localhost:8080/",
     "height": 419
    },
    "executionInfo": {
     "elapsed": 24,
     "status": "ok",
     "timestamp": 1631030541784,
     "user": {
      "displayName": "Andrej Ilin",
      "photoUrl": "",
      "userId": "01152849129143253976"
     },
     "user_tz": -180
    },
    "id": "JJkw2Cr3vS8M",
    "outputId": "51308f35-61ee-40c8-eb0a-cbf934063244"
   },
   "outputs": [
    {
     "data": {
      "text/html": [
       "<div>\n",
       "<style scoped>\n",
       "    .dataframe tbody tr th:only-of-type {\n",
       "        vertical-align: middle;\n",
       "    }\n",
       "\n",
       "    .dataframe tbody tr th {\n",
       "        vertical-align: top;\n",
       "    }\n",
       "\n",
       "    .dataframe thead th {\n",
       "        text-align: right;\n",
       "    }\n",
       "</style>\n",
       "<table border=\"1\" class=\"dataframe\">\n",
       "  <thead>\n",
       "    <tr style=\"text-align: right;\">\n",
       "      <th></th>\n",
       "      <th>месяц выплаты</th>\n",
       "      <th>сумма выплаты</th>\n",
       "      <th>тип выплаты</th>\n",
       "    </tr>\n",
       "  </thead>\n",
       "  <tbody>\n",
       "    <tr>\n",
       "      <th>0</th>\n",
       "      <td>3</td>\n",
       "      <td>453.492157</td>\n",
       "      <td>1</td>\n",
       "    </tr>\n",
       "    <tr>\n",
       "      <th>1</th>\n",
       "      <td>3</td>\n",
       "      <td>796.720764</td>\n",
       "      <td>2</td>\n",
       "    </tr>\n",
       "    <tr>\n",
       "      <th>2</th>\n",
       "      <td>4</td>\n",
       "      <td>1848.829712</td>\n",
       "      <td>2</td>\n",
       "    </tr>\n",
       "    <tr>\n",
       "      <th>3</th>\n",
       "      <td>3</td>\n",
       "      <td>1463.350342</td>\n",
       "      <td>2</td>\n",
       "    </tr>\n",
       "    <tr>\n",
       "      <th>4</th>\n",
       "      <td>3</td>\n",
       "      <td>538.125854</td>\n",
       "      <td>2</td>\n",
       "    </tr>\n",
       "    <tr>\n",
       "      <th>...</th>\n",
       "      <td>...</td>\n",
       "      <td>...</td>\n",
       "      <td>...</td>\n",
       "    </tr>\n",
       "    <tr>\n",
       "      <th>293519</th>\n",
       "      <td>9</td>\n",
       "      <td>229.062515</td>\n",
       "      <td>1</td>\n",
       "    </tr>\n",
       "    <tr>\n",
       "      <th>293520</th>\n",
       "      <td>5</td>\n",
       "      <td>1420.010620</td>\n",
       "      <td>1</td>\n",
       "    </tr>\n",
       "    <tr>\n",
       "      <th>293521</th>\n",
       "      <td>5</td>\n",
       "      <td>1501.858032</td>\n",
       "      <td>2</td>\n",
       "    </tr>\n",
       "    <tr>\n",
       "      <th>293522</th>\n",
       "      <td>4</td>\n",
       "      <td>786.061035</td>\n",
       "      <td>2</td>\n",
       "    </tr>\n",
       "    <tr>\n",
       "      <th>293523</th>\n",
       "      <td>3</td>\n",
       "      <td>47.752354</td>\n",
       "      <td>1</td>\n",
       "    </tr>\n",
       "  </tbody>\n",
       "</table>\n",
       "<p>293524 rows × 3 columns</p>\n",
       "</div>"
      ],
      "text/plain": [
       "        месяц выплаты  сумма выплаты  тип выплаты\n",
       "0                   3     453.492157            1\n",
       "1                   3     796.720764            2\n",
       "2                   4    1848.829712            2\n",
       "3                   3    1463.350342            2\n",
       "4                   3     538.125854            2\n",
       "...               ...            ...          ...\n",
       "293519              9     229.062515            1\n",
       "293520              5    1420.010620            1\n",
       "293521              5    1501.858032            2\n",
       "293522              4     786.061035            2\n",
       "293523              3      47.752354            1\n",
       "\n",
       "[293524 rows x 3 columns]"
      ]
     },
     "execution_count": 51,
     "metadata": {},
     "output_type": "execute_result"
    }
   ],
   "source": [
    "y_new = pd.DataFrame({\"месяц выплаты\": y_pred_month,\n",
    "                      \"сумма выплаты\": y_pred_sum,\t\"тип выплаты\": y_pred_type})\n",
    "y_new"
   ]
  },
  {
   "cell_type": "code",
   "execution_count": 52,
   "metadata": {
    "executionInfo": {
     "elapsed": 41895,
     "status": "ok",
     "timestamp": 1631030583666,
     "user": {
      "displayName": "Andrej Ilin",
      "photoUrl": "",
      "userId": "01152849129143253976"
     },
     "user_tz": -180
    },
    "id": "al0rIBBY-S7u"
   },
   "outputs": [],
   "source": [
    "y_new.to_excel('/content/drive/MyDrive/TЗ_Будущее.y_new.xlsx')"
   ]
  }
 ],
 "metadata": {
  "colab": {
   "authorship_tag": "ABX9TyNlwKfo4RwHCAi63H9pILlU",
   "collapsed_sections": [],
   "mount_file_id": "1pbRnjku6DVLuVay24Y7wKEjmFdkbempr",
   "name": "TZ.ipynb",
   "provenance": []
  },
  "kernelspec": {
   "display_name": "Python 3",
   "language": "python",
   "name": "python3"
  },
  "language_info": {
   "codemirror_mode": {
    "name": "ipython",
    "version": 3
   },
   "file_extension": ".py",
   "mimetype": "text/x-python",
   "name": "python",
   "nbconvert_exporter": "python",
   "pygments_lexer": "ipython3",
   "version": "3.8.5"
  }
 },
 "nbformat": 4,
 "nbformat_minor": 1
}
