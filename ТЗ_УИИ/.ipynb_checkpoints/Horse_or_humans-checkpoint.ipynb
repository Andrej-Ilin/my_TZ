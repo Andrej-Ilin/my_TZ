{
 "cells": [
  {
   "cell_type": "markdown",
   "metadata": {
    "id": "hH8Jk9wPbgQw"
   },
   "source": [
    "## Тех. задние\n",
    "______\n",
    "На базе HorsesOrHumans (которая есть в открытом доступе библиотеки tensorflow) постройте автокодировщик. Предобучите автокодировщик. Возьмите предобученный encoder. Кластеризуйте скрытое пространство на два кластера, полученное из encoder (т.е. кластеризовать изображения, так как при подаче изображения на вход encoder’у получится скрытое пространство).\n",
    "Проверьте насколько точно произошла кластеризация картинок лошадей и людей по двум классам.\n",
    "\n",
    "Мы не ждём от Вас высокой точности сети, это будет проверка на взаимодействие, понимание задания и подход к обработке базы.\n"
   ]
  },
  {
   "cell_type": "markdown",
   "metadata": {
    "id": "cuXTm1KXbXU8"
   },
   "source": [
    "### Импортируем библиотеки"
   ]
  },
  {
   "cell_type": "code",
   "execution_count": 1,
   "metadata": {
    "executionInfo": {
     "elapsed": 465,
     "status": "ok",
     "timestamp": 1626342472215,
     "user": {
      "displayName": "Andrej Ilin",
      "photoUrl": "",
      "userId": "01152849129143253976"
     },
     "user_tz": -180
    },
    "id": "_z2Ly2vfQKPZ"
   },
   "outputs": [],
   "source": [
    "import tensorflow as tf\n",
    "from tensorflow.keras.applications.inception_v3 import InceptionV3\n",
    "from tensorflow.keras.applications.inception_v3 import preprocess_input\n",
    "from tensorflow.keras.preprocessing import image\n",
    "from tensorflow.keras.preprocessing.image import img_to_array\n",
    "\n",
    "from sklearn.cluster import KMeans\n",
    "from sklearn import metrics\n",
    "\n",
    "import pandas as pd\n",
    "import numpy as np\n",
    "\n",
    "from tqdm import tqdm\n",
    "import os\n",
    "import shutil\n",
    "\n",
    "import seaborn as sns\n",
    "\n",
    "import matplotlib.image as implt\n",
    "import matplotlib.pyplot as plt\n",
    "\n",
    "# (Python Image Library) https://python-scripts.com/pillow\n",
    "from PIL import Image"
   ]
  },
  {
   "cell_type": "markdown",
   "metadata": {
    "id": "tTB8yBun_sPl"
   },
   "source": [
    "## Прописываем путь к данным"
   ]
  },
  {
   "cell_type": "code",
   "execution_count": 2,
   "metadata": {
    "executionInfo": {
     "elapsed": 16,
     "status": "ok",
     "timestamp": 1626342472216,
     "user": {
      "displayName": "Andrej Ilin",
      "photoUrl": "",
      "userId": "01152849129143253976"
     },
     "user_tz": -180
    },
    "id": "lskPlFos2JcN"
   },
   "outputs": [],
   "source": [
    "path_drive = \"/content/drive/MyDrive/ТЗ_УИИ/\"\n",
    "path_jupyter = \"C:/Users/DS_PC/Google Диск/ТЗ_УИИ/\"\n",
    "\n",
    "train_path = path_drive + \"train\"\n",
    "test_path = path_drive + \"validation\"\n",
    "\n",
    "train_horses = path_drive + \"train/horses/\"\n",
    "# test_horses = \"/content/drive/MyDrive/ТЗ_УИИ/validation/horses/\"\n",
    "\n",
    "train_humans = path_drive + \"train/humans/\"\n",
    "# test_humans = \"/content/drive/MyDrive/ТЗ_УИИ/validation/humans/\""
   ]
  },
  {
   "cell_type": "code",
   "execution_count": 3,
   "metadata": {
    "colab": {
     "base_uri": "https://localhost:8080/"
    },
    "executionInfo": {
     "elapsed": 16,
     "status": "ok",
     "timestamp": 1626342472217,
     "user": {
      "displayName": "Andrej Ilin",
      "photoUrl": "",
      "userId": "01152849129143253976"
     },
     "user_tz": -180
    },
    "id": "IceptfLDAk2A",
    "outputId": "b05a33b6-5e27-4132-9f90-bc3b26ef64f4"
   },
   "outputs": [
    {
     "ename": "ModuleNotFoundError",
     "evalue": "No module named 'google.colab'",
     "output_type": "error",
     "traceback": [
      "\u001b[1;31m---------------------------------------------------------------------------\u001b[0m",
      "\u001b[1;31mModuleNotFoundError\u001b[0m                       Traceback (most recent call last)",
      "\u001b[1;32m<ipython-input-3-d5df0069828e>\u001b[0m in \u001b[0;36m<module>\u001b[1;34m\u001b[0m\n\u001b[1;32m----> 1\u001b[1;33m \u001b[1;32mfrom\u001b[0m \u001b[0mgoogle\u001b[0m\u001b[1;33m.\u001b[0m\u001b[0mcolab\u001b[0m \u001b[1;32mimport\u001b[0m \u001b[0mdrive\u001b[0m\u001b[1;33m\u001b[0m\u001b[1;33m\u001b[0m\u001b[0m\n\u001b[0m\u001b[0;32m      2\u001b[0m \u001b[0mdrive\u001b[0m\u001b[1;33m.\u001b[0m\u001b[0mmount\u001b[0m\u001b[1;33m(\u001b[0m\u001b[1;34m'/content/drive'\u001b[0m\u001b[1;33m)\u001b[0m\u001b[1;33m\u001b[0m\u001b[1;33m\u001b[0m\u001b[0m\n",
      "\u001b[1;31mModuleNotFoundError\u001b[0m: No module named 'google.colab'"
     ]
    }
   ],
   "source": [
    "from google.colab import drive\n",
    "drive.mount('/content/drive')"
   ]
  },
  {
   "cell_type": "code",
   "execution_count": null,
   "metadata": {
    "colab": {
     "base_uri": "https://localhost:8080/",
     "height": 315
    },
    "executionInfo": {
     "elapsed": 426,
     "status": "ok",
     "timestamp": 1626342472633,
     "user": {
      "displayName": "Andrej Ilin",
      "photoUrl": "",
      "userId": "01152849129143253976"
     },
     "user_tz": -180
    },
    "id": "OrKqY7DW-iGk",
    "outputId": "811d626a-0ba5-40e9-8145-7028214c866d"
   },
   "outputs": [],
   "source": [
    "# Смотрим сколько людей и лошадей (Люди, кони.. - все смешалось! :) )\n",
    "category_names = os.listdir(train_path)  # output: ['humans', 'horses']\n",
    "nb_categories = len(category_names)  # output: 2\n",
    "train_images = []\n",
    "\n",
    "for category in category_names:\n",
    "    folder = train_path + \"/\" + category\n",
    "    train_images.append(len(os.listdir(folder)))\n",
    "    print(f\"{category}\", len(os.listdir(folder)))\n",
    "\n",
    "sns.barplot(y=category_names, x=train_images).set_title(\n",
    "    \"Кол-во изображений для тренировочной\")"
   ]
  },
  {
   "cell_type": "code",
   "execution_count": null,
   "metadata": {
    "colab": {
     "base_uri": "https://localhost:8080/",
     "height": 315
    },
    "executionInfo": {
     "elapsed": 17,
     "status": "ok",
     "timestamp": 1626342472635,
     "user": {
      "displayName": "Andrej Ilin",
      "photoUrl": "",
      "userId": "01152849129143253976"
     },
     "user_tz": -180
    },
    "id": "b_kCpLyC4FRM",
    "outputId": "f8f8f983-95a6-4b20-c314-645cd60b6961"
   },
   "outputs": [],
   "source": [
    "test_images = []\n",
    "for category in category_names:\n",
    "    folder = test_path + \"/\" + category\n",
    "    test_images.append(len(os.listdir(folder)))\n",
    "    print(f\"{category}\", len(os.listdir(folder)))\n",
    "sns.barplot(y=category_names, x=test_images).set_title(\n",
    "    \"Кол-во изображений для теста\")"
   ]
  },
  {
   "cell_type": "markdown",
   "metadata": {
    "id": "eH5XJcCfBG4O"
   },
   "source": [
    "# Смотрим картинки"
   ]
  },
  {
   "cell_type": "code",
   "execution_count": null,
   "metadata": {
    "colab": {
     "base_uri": "https://localhost:8080/",
     "height": 216
    },
    "executionInfo": {
     "elapsed": 802,
     "status": "ok",
     "timestamp": 1626342473424,
     "user": {
      "displayName": "Andrej Ilin",
      "photoUrl": "",
      "userId": "01152849129143253976"
     },
     "user_tz": -180
    },
    "id": "UMJJT-aDEdmz",
    "outputId": "dd1dbb50-3047-48a0-dcac-9715418f9cad"
   },
   "outputs": [],
   "source": [
    "img1 = implt.imread(train_horses + \"/horse01-0.png\")\n",
    "img2 = implt.imread(train_humans + \"/human01-00.png\")\n",
    "\n",
    "plt.subplot(1, 2, 1)\n",
    "plt.title('horse')\n",
    "plt.imshow(img1)\n",
    "plt.subplot(1, 2, 2)\n",
    "plt.title(\"human\")\n",
    "plt.imshow(img2)\n",
    "plt.show()"
   ]
  },
  {
   "cell_type": "code",
   "execution_count": null,
   "metadata": {
    "colab": {
     "base_uri": "https://localhost:8080/"
    },
    "executionInfo": {
     "elapsed": 15,
     "status": "ok",
     "timestamp": 1626342473426,
     "user": {
      "displayName": "Andrej Ilin",
      "photoUrl": "",
      "userId": "01152849129143253976"
     },
     "user_tz": -180
    },
    "id": "27SqGsPVFTjw",
    "outputId": "98a3b34c-2368-4896-f95a-4e9260f527db"
   },
   "outputs": [],
   "source": [
    "humans = Image.open(train_horses + \"/horse01-0.png\")\n",
    "pix = humans.load()\n",
    "print('размер картинки', humans.size)"
   ]
  },
  {
   "cell_type": "markdown",
   "metadata": {
    "id": "6LIRBmJA8rqf"
   },
   "source": [
    "## Preprocessing\n",
    "____\n",
    "Я использовал InceptionV3 основываясь на [документации](https://colab.research.google.com/github/tensorflow/docs/blob/master/site/en/tutorials/text/image_captioning.ipynb#scrollTo=zXR0217aRPFR)\n"
   ]
  },
  {
   "cell_type": "code",
   "execution_count": null,
   "metadata": {
    "executionInfo": {
     "elapsed": 253,
     "status": "ok",
     "timestamp": 1626342719341,
     "user": {
      "displayName": "Andrej Ilin",
      "photoUrl": "",
      "userId": "01152849129143253976"
     },
     "user_tz": -180
    },
    "id": "apn6V8zvSxd2"
   },
   "outputs": [],
   "source": [
    "# Function to Extract features from the images\n",
    "\n",
    "def image_predict(train_path):\n",
    "    img_path = os.listdir(train_path)\n",
    "    model = InceptionV3(weights='imagenet', include_top=False)\n",
    "    features = []\n",
    "    img_name = []\n",
    "    for i in tqdm(img_path):\n",
    "        direc = train_path + '/' + i + '/'\n",
    "        for i in os.listdir(direc):\n",
    "            img = tf.io.read_file(direc+i)  # берем каждый рисунок\n",
    "            x = tf.image.decode_png(img, channels=3)\n",
    "            x = np.expand_dims(x, axis=0)  # добавим 4-е пространство\n",
    "            x = preprocess_input(x)  # нормализуем для InceptionV3\n",
    "            feat = model.predict(x)\n",
    "            feat = feat.flatten()\n",
    "            features.append(feat)\n",
    "            img_name.append(i)\n",
    "    return features, img_name"
   ]
  },
  {
   "cell_type": "code",
   "execution_count": null,
   "metadata": {
    "colab": {
     "background_save": true,
     "base_uri": "https://localhost:8080/"
    },
    "id": "bamwH61qTo4P"
   },
   "outputs": [],
   "source": [
    "img_features, img_name = image_predict(train_path)"
   ]
  },
  {
   "cell_type": "markdown",
   "metadata": {
    "id": "cAA7JeFIJWJj"
   },
   "source": [
    "## Clustering"
   ]
  },
  {
   "cell_type": "code",
   "execution_count": null,
   "metadata": {
    "id": "h6c5uIFN-be-"
   },
   "outputs": [],
   "source": [
    "k = 2  # мы знаем что у нас 2 класса\n",
    "clusters = KMeans(k, random_state=40)\n",
    "clusters.fit(img_features)"
   ]
  },
  {
   "cell_type": "code",
   "execution_count": null,
   "metadata": {
    "id": "ZIsADEeFVwEr"
   },
   "outputs": [],
   "source": [
    "image_cluster = pd.DataFrame(img_name, columns=['image'])\n",
    "image_cluster[\"clusterid\"] = clusters.labels_\n",
    "image_cluster  # 0 denotes cat and 1 denotes dog"
   ]
  },
  {
   "cell_type": "code",
   "execution_count": null,
   "metadata": {
    "id": "O6jBcEDHbqvZ"
   },
   "outputs": [],
   "source": [
    "image_cluster.clusterid.value_counts()"
   ]
  },
  {
   "cell_type": "code",
   "execution_count": null,
   "metadata": {
    "id": "MG9FqvfJVUs_"
   },
   "outputs": [],
   "source": [
    "# Получаем предсказанные кластеры\n",
    "y_pred = clusters.labels_.astype(int)\n",
    "\n",
    "# Координаты полученных центроидов\n",
    "print(\"Координаты центроидов:\\n\", clusters.cluster_centers_)"
   ]
  },
  {
   "cell_type": "markdown",
   "metadata": {
    "id": "Zc626HUoe-bt"
   },
   "source": [
    "## Метрика\n",
    "____\n",
    "* **Коэффициент силуэта** - показывает, насколько объект похож на свой кластер по сравнению с другими кластерами. \n",
    "* **Однородность** - кластер состоит только из объектов одного класса\n",
    "* **Полнота** - достигает максимальное значение в том случае, когда все объекты из класса принадлежат одному кластеру\n",
    "* **V-мера** - среднее гармоническое однородности и полноты, то есть метрика,  объединяющая эти два показателя"
   ]
  },
  {
   "cell_type": "code",
   "execution_count": null,
   "metadata": {
    "id": "kLBTR_xSVHIJ"
   },
   "outputs": [],
   "source": [
    "# Метрики\n",
    "print(\"Коэффициент силуэта: %0.3f\" % metrics.silhouette_score(img_features,\n",
    "                                                              y_pred, metric='euclidean'))\n",
    "print(\"Однородность: %0.3f\" % metrics.homogeneity_score(img_name, y_pred))\n",
    "print(\"Полнота: %0.3f\" % metrics.completeness_score(img_name, y_pred))\n",
    "print(\"V-мера: %0.3f\" % metrics.v_measure_score(img_name, y_pred))"
   ]
  },
  {
   "cell_type": "code",
   "execution_count": null,
   "metadata": {
    "id": "woPWkDakWose"
   },
   "outputs": [],
   "source": [
    "img_features_array = np.asarray(img_features)"
   ]
  },
  {
   "cell_type": "code",
   "execution_count": null,
   "metadata": {
    "id": "CKY2-IBLWKQn"
   },
   "outputs": [],
   "source": [
    "y_pred = clusters.labels_.astype(np.int)\n",
    "plt.subplot()\n",
    "plt.xticks([])\n",
    "plt.yticks([])\n",
    "\n",
    "colors = np.array(list(['#377eb8', '#ff7f00']))\n",
    "plt.scatter(img_features_array[:, 0],\n",
    "            img_features_array[:, 1], color=colors[y_pred])"
   ]
  }
 ],
 "metadata": {
  "colab": {
   "name": "Horse_or_humans.ipynb",
   "version": ""
  },
  "kernelspec": {
   "display_name": "Python 3",
   "language": "python",
   "name": "python3"
  },
  "language_info": {
   "codemirror_mode": {
    "name": "ipython",
    "version": 3
   },
   "file_extension": ".py",
   "mimetype": "text/x-python",
   "name": "python",
   "nbconvert_exporter": "python",
   "pygments_lexer": "ipython3",
   "version": "3.8.5"
  }
 },
 "nbformat": 4,
 "nbformat_minor": 1
}
