{
 "cells": [
  {
   "cell_type": "markdown",
   "metadata": {
    "id": "hH8Jk9wPbgQw"
   },
   "source": [
    "## Тех. задние\n",
    "______\n",
    "На базе HorsesOrHumans (которая есть в открытом доступе библиотеки tensorflow) постройте автокодировщик. Предобучите автокодировщик. Возьмите предобученный encoder. Кластеризуйте скрытое пространство на два кластера, полученное из encoder (т.е. кластеризовать изображения, так как при подаче изображения на вход encoder’у получится скрытое пространство).\n",
    "Проверьте насколько точно произошла кластеризация картинок лошадей и людей по двум классам.\n",
    "\n",
    "Мы не ждём от Вас высокой точности сети, это будет проверка на взаимодействие, понимание задания и подход к обработке базы.\n"
   ]
  },
  {
   "cell_type": "markdown",
   "metadata": {
    "id": "cuXTm1KXbXU8"
   },
   "source": [
    "### Импортируем библиотеки"
   ]
  },
  {
   "cell_type": "code",
   "execution_count": 2,
   "metadata": {
    "executionInfo": {
     "elapsed": 3134,
     "status": "ok",
     "timestamp": 1626765872250,
     "user": {
      "displayName": "Andrej Ilin",
      "photoUrl": "",
      "userId": "01152849129143253976"
     },
     "user_tz": -180
    },
    "id": "_z2Ly2vfQKPZ"
   },
   "outputs": [],
   "source": [
    "import tensorflow as tf\n",
    "from tensorflow.keras.applications.inception_v3 import InceptionV3\n",
    "from tensorflow.keras.applications.inception_v3 import preprocess_input\n",
    "from tensorflow.keras.preprocessing import image\n",
    "from tensorflow.keras.preprocessing.image import img_to_array\n",
    "\n",
    "from sklearn.cluster import KMeans\n",
    "from sklearn import metrics\n",
    "from sklearn.metrics import f1_score, recall_score, accuracy_score, precision_score\n",
    "\n",
    "import pandas as pd\n",
    "import numpy as np\n",
    "\n",
    "from tqdm import tqdm\n",
    "import os\n",
    "import shutil\n",
    "\n",
    "import seaborn as sns\n",
    "\n",
    "import matplotlib.image as implt\n",
    "import matplotlib.pyplot as plt\n",
    "\n",
    "# (Python Image Library) https://python-scripts.com/pillow\n",
    "from PIL import Image"
   ]
  },
  {
   "cell_type": "markdown",
   "metadata": {},
   "source": [
    "## Прописываем нужные функции"
   ]
  },
  {
   "cell_type": "code",
   "execution_count": 9,
   "metadata": {
    "executionInfo": {
     "elapsed": 291,
     "status": "ok",
     "timestamp": 1626766190535,
     "user": {
      "displayName": "Andrej Ilin",
      "photoUrl": "",
      "userId": "01152849129143253976"
     },
     "user_tz": -180
    },
    "id": "apn6V8zvSxd2"
   },
   "outputs": [],
   "source": [
    "# Function to Extract features from the image\n",
    "\n",
    "def image_predict(train_path):\n",
    "    img_path = os.listdir(train_path)\n",
    "    model = InceptionV3(weights='imagenet', include_top=False)\n",
    "    features = []\n",
    "    img_name = []\n",
    "    for j in tqdm(img_path):\n",
    "        direc = train_path + '/' + j + '/'\n",
    "        for i in os.listdir(direc):\n",
    "            img = tf.io.read_file(direc+i)  # берем каждый рисунок\n",
    "            x = tf.image.decode_png(img, channels=3)\n",
    "            x = np.expand_dims(x, axis=0)  # добавим 4-е пространство\n",
    "            x = preprocess_input(x)  # нормализуем для InceptionV3\n",
    "            feat = model.predict(x)\n",
    "            feat = feat.flatten()\n",
    "            features.append(feat)\n",
    "            img_name.append(j)\n",
    "    return features, img_name"
   ]
  },
  {
   "cell_type": "code",
   "execution_count": null,
   "metadata": {},
   "outputs": [],
   "source": [
    "# Build table of metrics (confusion matrix)\n",
    "\n",
    "\n",
    "def metric(y_test, y_pred):\n",
    "    dict_metrics = {}\n",
    "    P = np.sum(y_test == 1)\n",
    "    N = np.sum(y_test == 0)\n",
    "    TP = np.sum((y_test == 0) & (y_pred == 0))\n",
    "    TN = np.sum((y_test == 1) & (y_pred == 1))\n",
    "    FP = np.sum((y_test == 0) & (y_pred == 1))\n",
    "    FN = np.sum((y_test == 1) & (y_pred == 0))\n",
    "    dict_metrics['P'] = ['Positive', P, 'Лошади']\n",
    "    dict_metrics['N'] = ['Negative', N, 'Люди']\n",
    "    dict_metrics['TP'] = ['True positive', TP, 'Истинно люди']\n",
    "    dict_metrics['TN'] = ['True Negative', TN, 'Истинно лошади']\n",
    "    dict_metrics['FP'] = ['False Positive', FP, 'Ложно люди']\n",
    "    dict_metrics['FN'] = ['False Negative', FN, 'Ложно лошади']\n",
    "    dict_metrics['Accuracy'] = ['Accuracy', accuracy_score(\n",
    "        y_test, y_pred), 'Accuracy=(TP+TN)/(TP+TN+FP+FN)']\n",
    "    dict_metrics['Precision'] = ['Precision', precision_score(\n",
    "        y_test, y_pred), 'Точность = TP/(TP+FP)']\n",
    "    dict_metrics['Recall'] = ['Recall', recall_score(\n",
    "        y_test, y_pred), 'Полнота = TP/(TP+FN)']\n",
    "    dict_metrics['F1-score'] = ['F-мера',\n",
    "                                f1_score(y_test, y_pred), 'Среднее гармоническое Precision и Recall']\n",
    "    Accuracy = accuracy_score(y_test, y_pred)\n",
    "    Recall = recall_score(y_test, y_pred)\n",
    "\n",
    "    temp_df = pd.DataFrame.from_dict(dict_metrics, orient='index', columns=[\n",
    "        'Metrics', 'Result', 'Description'])\n",
    "    display(temp_df)"
   ]
  },
  {
   "cell_type": "markdown",
   "metadata": {
    "id": "tTB8yBun_sPl"
   },
   "source": [
    "## Прописываем путь к данным"
   ]
  },
  {
   "cell_type": "code",
   "execution_count": 3,
   "metadata": {
    "executionInfo": {
     "elapsed": 9,
     "status": "ok",
     "timestamp": 1626765872252,
     "user": {
      "displayName": "Andrej Ilin",
      "photoUrl": "",
      "userId": "01152849129143253976"
     },
     "user_tz": -180
    },
    "id": "lskPlFos2JcN"
   },
   "outputs": [],
   "source": [
    "path_drive = \"/content/drive/MyDrive/ТЗ_УИИ/\"\n",
    "path_jupyter = \"C:/Users/DS_PC/Google Диск/ТЗ_УИИ/\"\n",
    "\n",
    "train_path = path_jupyter + \"train\"\n",
    "test_path = path_jupyter + \"validation\"\n",
    "\n",
    "train_horses = path_jupyter + \"train/horses/\"\n",
    "# test_horses = \"/content/drive/MyDrive/ТЗ_УИИ/validation/horses/\"\n",
    "\n",
    "train_humans = path_jupyter + \"train/humans/\"\n",
    "# test_humans = \"/content/drive/MyDrive/ТЗ_УИИ/validation/humans/\""
   ]
  },
  {
   "cell_type": "code",
   "execution_count": 4,
   "metadata": {
    "colab": {
     "base_uri": "https://localhost:8080/",
     "height": 332
    },
    "executionInfo": {
     "elapsed": 3186,
     "status": "ok",
     "timestamp": 1626765922538,
     "user": {
      "displayName": "Andrej Ilin",
      "photoUrl": "",
      "userId": "01152849129143253976"
     },
     "user_tz": -180
    },
    "id": "OrKqY7DW-iGk",
    "outputId": "adf9cc6d-9afb-40ac-f8f9-cf12d77c3a3d"
   },
   "outputs": [
    {
     "name": "stdout",
     "output_type": "stream",
     "text": [
      "horses 500\n",
      "humans 527\n"
     ]
    },
    {
     "data": {
      "text/plain": [
       "Text(0.5, 1.0, 'Кол-во изображений для тренировочной')"
      ]
     },
     "execution_count": 4,
     "metadata": {},
     "output_type": "execute_result"
    },
    {
     "data": {
      "image/png": "[encoded data removed]",
      "text/plain": [
       "<Figure size 432x288 with 1 Axes>"
      ]
     },
     "metadata": {
      "needs_background": "light"
     },
     "output_type": "display_data"
    }
   ],
   "source": [
    "# Смотрим сколько людей и лошадей (Люди, кони.. - все смешалось! :) )\n",
    "category_names = os.listdir(train_path)  # output: ['humans', 'horses']\n",
    "nb_categories = len(category_names)  # output: 2\n",
    "train_images = []\n",
    "\n",
    "for category in category_names:\n",
    "    folder = train_path + \"/\" + category\n",
    "    train_images.append(len(os.listdir(folder)))\n",
    "    print(f\"{category}\", len(os.listdir(folder)))\n",
    "\n",
    "sns.barplot(y=category_names, x=train_images).set_title(\n",
    "    \"Кол-во изображений для тренировочной\")"
   ]
  },
  {
   "cell_type": "code",
   "execution_count": 5,
   "metadata": {
    "colab": {
     "base_uri": "https://localhost:8080/",
     "height": 332
    },
    "executionInfo": {
     "elapsed": 1099,
     "status": "ok",
     "timestamp": 1626765925200,
     "user": {
      "displayName": "Andrej Ilin",
      "photoUrl": "",
      "userId": "01152849129143253976"
     },
     "user_tz": -180
    },
    "id": "b_kCpLyC4FRM",
    "outputId": "3638cfa3-a264-4552-df85-3c710bd2c0fd"
   },
   "outputs": [
    {
     "name": "stdout",
     "output_type": "stream",
     "text": [
      "horses 128\n",
      "humans 128\n"
     ]
    },
    {
     "data": {
      "text/plain": [
       "Text(0.5, 1.0, 'Кол-во изображений для теста')"
      ]
     },
     "execution_count": 5,
     "metadata": {},
     "output_type": "execute_result"
    },
    {
     "data": {
      "image/png": "[encoded data removed]",
      "text/plain": [
       "<Figure size 432x288 with 1 Axes>"
      ]
     },
     "metadata": {
      "needs_background": "light"
     },
     "output_type": "display_data"
    }
   ],
   "source": [
    "test_images = []\n",
    "for category in category_names:\n",
    "    folder = test_path + \"/\" + category\n",
    "    test_images.append(len(os.listdir(folder)))\n",
    "    print(f\"{category}\", len(os.listdir(folder)))\n",
    "sns.barplot(y=category_names, x=test_images).set_title(\n",
    "    \"Кол-во изображений для теста\")"
   ]
  },
  {
   "cell_type": "markdown",
   "metadata": {
    "id": "eH5XJcCfBG4O"
   },
   "source": [
    "# Смотрим картинки"
   ]
  },
  {
   "cell_type": "code",
   "execution_count": 6,
   "metadata": {
    "colab": {
     "base_uri": "https://localhost:8080/",
     "height": 216
    },
    "executionInfo": {
     "elapsed": 1462,
     "status": "ok",
     "timestamp": 1626765928431,
     "user": {
      "displayName": "Andrej Ilin",
      "photoUrl": "",
      "userId": "01152849129143253976"
     },
     "user_tz": -180
    },
    "id": "UMJJT-aDEdmz",
    "outputId": "634a0a11-d592-480c-91e1-d32db1fbdaad"
   },
   "outputs": [
    {
     "data": {
      "image/png": "[encoded data removed]",
      "text/plain": [
       "<Figure size 432x288 with 2 Axes>"
      ]
     },
     "metadata": {
      "needs_background": "light"
     },
     "output_type": "display_data"
    }
   ],
   "source": [
    "img1 = implt.imread(train_horses + \"/horse01-0.png\")\n",
    "img2 = implt.imread(train_humans + \"/human01-00.png\")\n",
    "\n",
    "plt.subplot(1, 2, 1)\n",
    "plt.title('horse')\n",
    "plt.imshow(img1)\n",
    "plt.subplot(1, 2, 2)\n",
    "plt.title(\"human\")\n",
    "plt.imshow(img2)\n",
    "plt.show()"
   ]
  },
  {
   "cell_type": "code",
   "execution_count": 7,
   "metadata": {
    "colab": {
     "base_uri": "https://localhost:8080/"
    },
    "executionInfo": {
     "elapsed": 274,
     "status": "ok",
     "timestamp": 1626765930524,
     "user": {
      "displayName": "Andrej Ilin",
      "photoUrl": "",
      "userId": "01152849129143253976"
     },
     "user_tz": -180
    },
    "id": "27SqGsPVFTjw",
    "outputId": "af2e8f6b-48ad-40d7-a238-03c46c59a4fa"
   },
   "outputs": [
    {
     "name": "stdout",
     "output_type": "stream",
     "text": [
      "размер картинки (300, 300)\n"
     ]
    }
   ],
   "source": [
    "humans = Image.open(train_horses + \"/horse01-0.png\")\n",
    "pix = humans.load()\n",
    "print('размер картинки', humans.size)"
   ]
  },
  {
   "cell_type": "code",
   "execution_count": 41,
   "metadata": {
    "colab": {
     "base_uri": "https://localhost:8080/",
     "height": 35
    },
    "executionInfo": {
     "elapsed": 10,
     "status": "ok",
     "timestamp": 1626766027527,
     "user": {
      "displayName": "Andrej Ilin",
      "photoUrl": "",
      "userId": "01152849129143253976"
     },
     "user_tz": -180
    },
    "id": "kdDFp_mizxBQ",
    "outputId": "b127c52d-0164-458f-d0eb-3f4551a13700"
   },
   "outputs": [
    {
     "data": {
      "text/plain": [
       "'horses'"
      ]
     },
     "execution_count": 41,
     "metadata": {},
     "output_type": "execute_result"
    }
   ],
   "source": [
    "os.listdir(train_path)[0]"
   ]
  },
  {
   "cell_type": "markdown",
   "metadata": {
    "id": "6LIRBmJA8rqf"
   },
   "source": [
    "## Препроцессинг\n",
    "____\n",
    "Я использовал InceptionV3 основываясь на [документации](https://colab.research.google.com/github/tensorflow/docs/blob/master/site/en/tutorials/text/image_captioning.ipynb#scrollTo=zXR0217aRPFR)\n"
   ]
  },
  {
   "cell_type": "code",
   "execution_count": 10,
   "metadata": {
    "colab": {
     "base_uri": "https://localhost:8080/"
    },
    "id": "bamwH61qTo4P",
    "outputId": "37f3bad8-51a5-41c6-b198-30650e47c6f0"
   },
   "outputs": [
    {
     "name": "stderr",
     "output_type": "stream",
     "text": [
      "100%|███████████████████████████████████████████████████████████████████████████████████| 2/2 [04:19<00:00, 130.00s/it]\n"
     ]
    }
   ],
   "source": [
    "img_features, img_name = image_predict(train_path)"
   ]
  },
  {
   "cell_type": "markdown",
   "metadata": {
    "id": "cAA7JeFIJWJj"
   },
   "source": [
    "## Кластеризация "
   ]
  },
  {
   "cell_type": "code",
   "execution_count": 11,
   "metadata": {
    "colab": {
     "base_uri": "https://localhost:8080/"
    },
    "executionInfo": {
     "elapsed": 42127,
     "status": "ok",
     "timestamp": 1626345811699,
     "user": {
      "displayName": "Andrej Ilin",
      "photoUrl": "",
      "userId": "01152849129143253976"
     },
     "user_tz": -180
    },
    "id": "h6c5uIFN-be-",
    "outputId": "b20ca504-4c0c-4eb9-c8ea-2b4b40cfb1c5"
   },
   "outputs": [
    {
     "data": {
      "text/plain": [
       "KMeans(n_clusters=2, random_state=40)"
      ]
     },
     "execution_count": 11,
     "metadata": {},
     "output_type": "execute_result"
    }
   ],
   "source": [
    "k = 2  # мы знаем что у нас 2 класса\n",
    "clusters = KMeans(k, random_state=40)\n",
    "clusters.fit(img_features)"
   ]
  },
  {
   "cell_type": "code",
   "execution_count": 12,
   "metadata": {
    "colab": {
     "base_uri": "https://localhost:8080/",
     "height": 419
    },
    "executionInfo": {
     "elapsed": 23,
     "status": "ok",
     "timestamp": 1626345811701,
     "user": {
      "displayName": "Andrej Ilin",
      "photoUrl": "",
      "userId": "01152849129143253976"
     },
     "user_tz": -180
    },
    "id": "ZIsADEeFVwEr",
    "outputId": "a5ab33b4-e80e-4ce2-a94d-f07da3be8129"
   },
   "outputs": [
    {
     "data": {
      "text/html": [
       "<div>\n",
       "<style scoped>\n",
       "    .dataframe tbody tr th:only-of-type {\n",
       "        vertical-align: middle;\n",
       "    }\n",
       "\n",
       "    .dataframe tbody tr th {\n",
       "        vertical-align: top;\n",
       "    }\n",
       "\n",
       "    .dataframe thead th {\n",
       "        text-align: right;\n",
       "    }\n",
       "</style>\n",
       "<table border=\"1\" class=\"dataframe\">\n",
       "  <thead>\n",
       "    <tr style=\"text-align: right;\">\n",
       "      <th></th>\n",
       "      <th>image</th>\n",
       "      <th>clusterid</th>\n",
       "    </tr>\n",
       "  </thead>\n",
       "  <tbody>\n",
       "    <tr>\n",
       "      <th>0</th>\n",
       "      <td>horses</td>\n",
       "      <td>1</td>\n",
       "    </tr>\n",
       "    <tr>\n",
       "      <th>1</th>\n",
       "      <td>horses</td>\n",
       "      <td>1</td>\n",
       "    </tr>\n",
       "    <tr>\n",
       "      <th>2</th>\n",
       "      <td>horses</td>\n",
       "      <td>1</td>\n",
       "    </tr>\n",
       "    <tr>\n",
       "      <th>3</th>\n",
       "      <td>horses</td>\n",
       "      <td>1</td>\n",
       "    </tr>\n",
       "    <tr>\n",
       "      <th>4</th>\n",
       "      <td>horses</td>\n",
       "      <td>1</td>\n",
       "    </tr>\n",
       "    <tr>\n",
       "      <th>...</th>\n",
       "      <td>...</td>\n",
       "      <td>...</td>\n",
       "    </tr>\n",
       "    <tr>\n",
       "      <th>1022</th>\n",
       "      <td>humans</td>\n",
       "      <td>0</td>\n",
       "    </tr>\n",
       "    <tr>\n",
       "      <th>1023</th>\n",
       "      <td>humans</td>\n",
       "      <td>0</td>\n",
       "    </tr>\n",
       "    <tr>\n",
       "      <th>1024</th>\n",
       "      <td>humans</td>\n",
       "      <td>0</td>\n",
       "    </tr>\n",
       "    <tr>\n",
       "      <th>1025</th>\n",
       "      <td>humans</td>\n",
       "      <td>0</td>\n",
       "    </tr>\n",
       "    <tr>\n",
       "      <th>1026</th>\n",
       "      <td>humans</td>\n",
       "      <td>0</td>\n",
       "    </tr>\n",
       "  </tbody>\n",
       "</table>\n",
       "<p>1027 rows × 2 columns</p>\n",
       "</div>"
      ],
      "text/plain": [
       "       image  clusterid\n",
       "0     horses          1\n",
       "1     horses          1\n",
       "2     horses          1\n",
       "3     horses          1\n",
       "4     horses          1\n",
       "...      ...        ...\n",
       "1022  humans          0\n",
       "1023  humans          0\n",
       "1024  humans          0\n",
       "1025  humans          0\n",
       "1026  humans          0\n",
       "\n",
       "[1027 rows x 2 columns]"
      ]
     },
     "execution_count": 12,
     "metadata": {},
     "output_type": "execute_result"
    }
   ],
   "source": [
    "image_cluster = pd.DataFrame(img_name, columns=['image'])\n",
    "image_cluster[\"clusterid\"] = clusters.labels_\n",
    "image_cluster  # 0 denotes cat and 1 denotes dog"
   ]
  },
  {
   "cell_type": "code",
   "execution_count": 30,
   "metadata": {},
   "outputs": [
    {
     "data": {
      "text/plain": [
       "0    529\n",
       "1    498\n",
       "Name: clusterid, dtype: int64"
      ]
     },
     "execution_count": 30,
     "metadata": {},
     "output_type": "execute_result"
    }
   ],
   "source": [
    "image_cluster.clusterid.value_counts()"
   ]
  },
  {
   "cell_type": "markdown",
   "metadata": {
    "id": "Zc626HUoe-bt"
   },
   "source": [
    "## Метрика\n",
    "____"
   ]
  },
  {
   "cell_type": "code",
   "execution_count": 27,
   "metadata": {},
   "outputs": [],
   "source": [
    "y_test = image_cluster.image.apply(lambda x: 1 if x == 'horses' else 0)\n",
    "y_pred = clusters.labels_"
   ]
  },
  {
   "cell_type": "code",
   "execution_count": 37,
   "metadata": {},
   "outputs": [
    {
     "data": {
      "text/html": [
       "<div>\n",
       "<style scoped>\n",
       "    .dataframe tbody tr th:only-of-type {\n",
       "        vertical-align: middle;\n",
       "    }\n",
       "\n",
       "    .dataframe tbody tr th {\n",
       "        vertical-align: top;\n",
       "    }\n",
       "\n",
       "    .dataframe thead th {\n",
       "        text-align: right;\n",
       "    }\n",
       "</style>\n",
       "<table border=\"1\" class=\"dataframe\">\n",
       "  <thead>\n",
       "    <tr style=\"text-align: right;\">\n",
       "      <th></th>\n",
       "      <th>Metrics</th>\n",
       "      <th>Result</th>\n",
       "      <th>Description</th>\n",
       "    </tr>\n",
       "  </thead>\n",
       "  <tbody>\n",
       "    <tr>\n",
       "      <th>P</th>\n",
       "      <td>Positive</td>\n",
       "      <td>500.000000</td>\n",
       "      <td>Лошади</td>\n",
       "    </tr>\n",
       "    <tr>\n",
       "      <th>N</th>\n",
       "      <td>Negative</td>\n",
       "      <td>527.000000</td>\n",
       "      <td>Люди</td>\n",
       "    </tr>\n",
       "    <tr>\n",
       "      <th>TP</th>\n",
       "      <td>True positive</td>\n",
       "      <td>527.000000</td>\n",
       "      <td>Истинно люди</td>\n",
       "    </tr>\n",
       "    <tr>\n",
       "      <th>TN</th>\n",
       "      <td>True Negative</td>\n",
       "      <td>498.000000</td>\n",
       "      <td>Истинно лошади</td>\n",
       "    </tr>\n",
       "    <tr>\n",
       "      <th>FP</th>\n",
       "      <td>False Positive</td>\n",
       "      <td>0.000000</td>\n",
       "      <td>Ложно люди</td>\n",
       "    </tr>\n",
       "    <tr>\n",
       "      <th>FN</th>\n",
       "      <td>False Negative</td>\n",
       "      <td>2.000000</td>\n",
       "      <td>Ложно лошади</td>\n",
       "    </tr>\n",
       "    <tr>\n",
       "      <th>Accuracy</th>\n",
       "      <td>Accuracy</td>\n",
       "      <td>0.998053</td>\n",
       "      <td>Accuracy=(TP+TN)/(TP+TN+FP+FN)</td>\n",
       "    </tr>\n",
       "    <tr>\n",
       "      <th>Precision</th>\n",
       "      <td>Precision</td>\n",
       "      <td>1.000000</td>\n",
       "      <td>Точность = TP/(TP+FP)</td>\n",
       "    </tr>\n",
       "    <tr>\n",
       "      <th>Recall</th>\n",
       "      <td>Recall</td>\n",
       "      <td>0.996000</td>\n",
       "      <td>Полнота = TP/(TP+FN)</td>\n",
       "    </tr>\n",
       "    <tr>\n",
       "      <th>F1-score</th>\n",
       "      <td>F-мера</td>\n",
       "      <td>0.997996</td>\n",
       "      <td>Среднее гармоническое Precision и Recall</td>\n",
       "    </tr>\n",
       "  </tbody>\n",
       "</table>\n",
       "</div>"
      ],
      "text/plain": [
       "                  Metrics      Result  \\\n",
       "P                Positive  500.000000   \n",
       "N                Negative  527.000000   \n",
       "TP          True positive  527.000000   \n",
       "TN          True Negative  498.000000   \n",
       "FP         False Positive    0.000000   \n",
       "FN         False Negative    2.000000   \n",
       "Accuracy         Accuracy    0.998053   \n",
       "Precision       Precision    1.000000   \n",
       "Recall             Recall    0.996000   \n",
       "F1-score           F-мера    0.997996   \n",
       "\n",
       "                                        Description  \n",
       "P                                            Лошади  \n",
       "N                                              Люди  \n",
       "TP                                     Истинно люди  \n",
       "TN                                   Истинно лошади  \n",
       "FP                                       Ложно люди  \n",
       "FN                                     Ложно лошади  \n",
       "Accuracy             Accuracy=(TP+TN)/(TP+TN+FP+FN)  \n",
       "Precision                     Точность = TP/(TP+FP)  \n",
       "Recall                         Полнота = TP/(TP+FN)  \n",
       "F1-score   Среднее гармоническое Precision и Recall  "
      ]
     },
     "metadata": {},
     "output_type": "display_data"
    }
   ],
   "source": [
    "metric(y_test, y_pred)"
   ]
  },
  {
   "cell_type": "markdown",
   "metadata": {},
   "source": [
    "## Заключение - практически полностью распознали людей и лошадей."
   ]
  },
  {
   "cell_type": "code",
   "execution_count": 38,
   "metadata": {
    "colab": {
     "base_uri": "https://localhost:8080/"
    },
    "executionInfo": {
     "elapsed": 7354,
     "status": "ok",
     "timestamp": 1626345819045,
     "user": {
      "displayName": "Andrej Ilin",
      "photoUrl": "",
      "userId": "01152849129143253976"
     },
     "user_tz": -180
    },
    "id": "kLBTR_xSVHIJ",
    "outputId": "9706cbbb-55a9-47be-f2e2-f583f812ae8c"
   },
   "outputs": [
    {
     "name": "stdout",
     "output_type": "stream",
     "text": [
      "Коэффициент силуэта: 0.088\n",
      "Однородность: 0.982\n",
      "Полнота: 0.982\n",
      "V-мера: 0.982\n"
     ]
    }
   ],
   "source": [
    "# Прочие метрики..\n",
    "print(\"Коэффициент силуэта: %0.3f\" % metrics.silhouette_score(img_features,\n",
    "                                                              y_pred, metric='euclidean'))\n",
    "print(\"Однородность: %0.3f\" % metrics.homogeneity_score(img_name, y_pred))\n",
    "print(\"Полнота: %0.3f\" % metrics.completeness_score(img_name, y_pred))\n",
    "print(\"V-мера: %0.3f\" % metrics.v_measure_score(img_name, y_pred))"
   ]
  },
  {
   "cell_type": "code",
   "execution_count": 39,
   "metadata": {
    "id": "woPWkDakWose"
   },
   "outputs": [],
   "source": [
    "img_features_array = np.asarray(img_features)"
   ]
  },
  {
   "cell_type": "code",
   "execution_count": 40,
   "metadata": {
    "colab": {
     "base_uri": "https://localhost:8080/",
     "height": 269
    },
    "executionInfo": {
     "elapsed": 22,
     "status": "ok",
     "timestamp": 1626345819052,
     "user": {
      "displayName": "Andrej Ilin",
      "photoUrl": "",
      "userId": "01152849129143253976"
     },
     "user_tz": -180
    },
    "id": "CKY2-IBLWKQn",
    "outputId": "86bfe3bf-a22e-4343-df65-e8e936159bb3"
   },
   "outputs": [
    {
     "data": {
      "text/plain": [
       "<matplotlib.collections.PathCollection at 0x2255b210100>"
      ]
     },
     "execution_count": 40,
     "metadata": {},
     "output_type": "execute_result"
    },
    {
     "data": {
      "image/png": "[encoded data removed]",
      "text/plain": [
       "<Figure size 432x288 with 1 Axes>"
      ]
     },
     "metadata": {},
     "output_type": "display_data"
    }
   ],
   "source": [
    "y_pred = clusters.labels_.astype(np.int)\n",
    "plt.subplot()\n",
    "plt.xticks([])\n",
    "plt.yticks([])\n",
    "\n",
    "colors = np.array(list(['#377eb8', '#ff7f00']))\n",
    "plt.scatter(img_features_array[:, 0],\n",
    "            img_features_array[:, 1], color=colors[y_pred])"
   ]
  }
 ],
 "metadata": {
  "colab": {
   "name": "Horse_or_humans.ipynb",
   "provenance": []
  },
  "kernelspec": {
   "display_name": "Python 3",
   "language": "python",
   "name": "python3"
  },
  "language_info": {
   "codemirror_mode": {
    "name": "ipython",
    "version": 3
   },
   "file_extension": ".py",
   "mimetype": "text/x-python",
   "name": "python",
   "nbconvert_exporter": "python",
   "pygments_lexer": "ipython3",
   "version": "3.8.5"
  }
 },
 "nbformat": 4,
 "nbformat_minor": 1
}
